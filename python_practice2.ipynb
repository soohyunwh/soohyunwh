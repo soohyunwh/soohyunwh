{
 "cells": [
  {
   "cell_type": "code",
   "execution_count": 1,
   "metadata": {},
   "outputs": [
    {
     "ename": "SyntaxError",
     "evalue": "expected ':' (1250276552.py, line 7)",
     "output_type": "error",
     "traceback": [
      "\u001b[1;36m  Cell \u001b[1;32mIn[1], line 7\u001b[1;36m\u001b[0m\n\u001b[1;33m    else number <= random.randint():\u001b[0m\n\u001b[1;37m         ^\u001b[0m\n\u001b[1;31mSyntaxError\u001b[0m\u001b[1;31m:\u001b[0m expected ':'\n"
     ]
    }
   ],
   "source": [
    "# 숫자맞추기게임\n",
    "number = int(input(\"숫자를 맞춰보세요\"))\n",
    "random.randint(1,100)\n",
    "\n",
    "if number >= random.randint():\n",
    "    print(\"DOWN!\")\n",
    "else number <= random.randint():\n",
    "    print(\"UP!\")\n"
   ]
  },
  {
   "cell_type": "code",
   "execution_count": null,
   "metadata": {},
   "outputs": [],
   "source": [
    "##숫자맞추기게임\n",
    "#랜덤 숫자를 생성하기 위한 모듈\n",
    "import random\n",
    "\n",
    "#컴퓨터가 랜덤숫자를 선택\n",
    "com_number = random.randint(1,50)\n",
    "user_try = 0\n",
    "\n",
    "print(\"재미있는 술게임~\")\n",
    "print(\"숫자맞추기 게임에 온 것을 환영합니다\")\n",
    "print(\"1부터 50사이의 숫자를 맞춰보세요\")\n",
    "\n",
    "#사용자가 숫자를 맞힐때까지 반복\n",
    "while True:\n",
    "    try:\n",
    "        #사용자가 숫자입력\n",
    "        user_guess = int(input(\"숫자를 입력하세요: \"))\n",
    "        user_try += 1\n",
    "\n",
    "        #입력한 숫자와 컴퓨터 숫자 비교\n",
    "        if user_guess < com_number:\n",
    "            print(\"UP!\")\n",
    "        elif user_guess > com_number:\n",
    "            print(\"DOWN!\")\n",
    "        else:\n",
    "            #정답인 경우\n",
    "            print(\"나머지 마셔!\")\n",
    "            break\n",
    "    except ValueError:\n",
    "        print(\"1부터 50사이의 숫자를 맞춰보세요\")"
   ]
  },
  {
   "cell_type": "code",
   "execution_count": 3,
   "metadata": {},
   "outputs": [
    {
     "name": "stdout",
     "output_type": "stream",
     "text": [
      "재미있는 술게임~\n",
      "숫자맞추기 게임에 온 것을 환영합니다\n",
      "1부터 50사이의 숫자를 맞춰보세요\n",
      "UP!\n",
      "현재 시도횟수 1번\n",
      "UP!\n",
      "현재 시도횟수 2번\n",
      "UP!\n",
      "현재 시도횟수 3번\n",
      "UP!\n",
      "현재 시도횟수 4번\n",
      "DOWN!\n",
      "현재 시도횟수 5번\n",
      "DOWN!\n",
      "현재 시도횟수 6번\n",
      "DOWN!\n",
      "현재 시도횟수 7번\n",
      "DOWN!\n",
      "현재 시도횟수 8번\n",
      "7번 틀리셨네요 나머지 마시기!\n",
      "재미있는 술게임~\n",
      "숫자맞추기 게임에 온 것을 환영합니다\n",
      "1부터 50사이의 숫자를 맞춰보세요\n",
      "DOWN!\n",
      "현재 시도횟수 1번\n",
      "땡\n",
      "땡\n",
      "DOWN!\n",
      "현재 시도횟수 2번\n",
      "DOWN!\n",
      "현재 시도횟수 3번\n",
      "DOWN!\n",
      "현재 시도횟수 4번\n",
      "UP!\n",
      "현재 시도횟수 5번\n",
      "UP!\n",
      "현재 시도횟수 6번\n",
      "UP!\n",
      "현재 시도횟수 7번\n",
      "UP!\n",
      "현재 시도횟수 8번\n",
      "7번 틀리셨네요 나머지 마시기!\n",
      "재미있는 술게임~\n",
      "숫자맞추기 게임에 온 것을 환영합니다\n",
      "1부터 50사이의 숫자를 맞춰보세요\n"
     ]
    },
    {
     "ename": "KeyboardInterrupt",
     "evalue": "Interrupted by user",
     "output_type": "error",
     "traceback": [
      "\u001b[1;31m---------------------------------------------------------------------------\u001b[0m",
      "\u001b[1;31mKeyboardInterrupt\u001b[0m                         Traceback (most recent call last)",
      "Cell \u001b[1;32mIn[3], line 19\u001b[0m\n\u001b[0;32m     16\u001b[0m \u001b[38;5;28;01mwhile\u001b[39;00m user_try \u001b[38;5;241m<\u001b[39m\u001b[38;5;241m=\u001b[39m \u001b[38;5;241m7\u001b[39m:\n\u001b[0;32m     17\u001b[0m     \u001b[38;5;28;01mtry\u001b[39;00m:\n\u001b[0;32m     18\u001b[0m         \u001b[38;5;66;03m#사용자가 숫자입력\u001b[39;00m\n\u001b[1;32m---> 19\u001b[0m         user_guess \u001b[38;5;241m=\u001b[39m \u001b[38;5;28mint\u001b[39m(\u001b[38;5;28minput\u001b[39m(\u001b[38;5;124m\"\u001b[39m\u001b[38;5;124m숫자를 입력하세요: \u001b[39m\u001b[38;5;124m\"\u001b[39m))\n\u001b[0;32m     21\u001b[0m         \u001b[38;5;66;03m#정답을 맞추면 게임 종료\u001b[39;00m\n\u001b[0;32m     22\u001b[0m         \u001b[38;5;28;01mif\u001b[39;00m user_guess \u001b[38;5;241m==\u001b[39m com_number:\n",
      "File \u001b[1;32mc:\\ProgramData\\anaconda3\\Lib\\site-packages\\ipykernel\\kernelbase.py:1262\u001b[0m, in \u001b[0;36mKernel.raw_input\u001b[1;34m(self, prompt)\u001b[0m\n\u001b[0;32m   1260\u001b[0m     msg \u001b[38;5;241m=\u001b[39m \u001b[38;5;124m\"\u001b[39m\u001b[38;5;124mraw_input was called, but this frontend does not support input requests.\u001b[39m\u001b[38;5;124m\"\u001b[39m\n\u001b[0;32m   1261\u001b[0m     \u001b[38;5;28;01mraise\u001b[39;00m StdinNotImplementedError(msg)\n\u001b[1;32m-> 1262\u001b[0m \u001b[38;5;28;01mreturn\u001b[39;00m \u001b[38;5;28mself\u001b[39m\u001b[38;5;241m.\u001b[39m_input_request(\n\u001b[0;32m   1263\u001b[0m     \u001b[38;5;28mstr\u001b[39m(prompt),\n\u001b[0;32m   1264\u001b[0m     \u001b[38;5;28mself\u001b[39m\u001b[38;5;241m.\u001b[39m_parent_ident[\u001b[38;5;124m\"\u001b[39m\u001b[38;5;124mshell\u001b[39m\u001b[38;5;124m\"\u001b[39m],\n\u001b[0;32m   1265\u001b[0m     \u001b[38;5;28mself\u001b[39m\u001b[38;5;241m.\u001b[39mget_parent(\u001b[38;5;124m\"\u001b[39m\u001b[38;5;124mshell\u001b[39m\u001b[38;5;124m\"\u001b[39m),\n\u001b[0;32m   1266\u001b[0m     password\u001b[38;5;241m=\u001b[39m\u001b[38;5;28;01mFalse\u001b[39;00m,\n\u001b[0;32m   1267\u001b[0m )\n",
      "File \u001b[1;32mc:\\ProgramData\\anaconda3\\Lib\\site-packages\\ipykernel\\kernelbase.py:1305\u001b[0m, in \u001b[0;36mKernel._input_request\u001b[1;34m(self, prompt, ident, parent, password)\u001b[0m\n\u001b[0;32m   1302\u001b[0m \u001b[38;5;28;01mexcept\u001b[39;00m \u001b[38;5;167;01mKeyboardInterrupt\u001b[39;00m:\n\u001b[0;32m   1303\u001b[0m     \u001b[38;5;66;03m# re-raise KeyboardInterrupt, to truncate traceback\u001b[39;00m\n\u001b[0;32m   1304\u001b[0m     msg \u001b[38;5;241m=\u001b[39m \u001b[38;5;124m\"\u001b[39m\u001b[38;5;124mInterrupted by user\u001b[39m\u001b[38;5;124m\"\u001b[39m\n\u001b[1;32m-> 1305\u001b[0m     \u001b[38;5;28;01mraise\u001b[39;00m \u001b[38;5;167;01mKeyboardInterrupt\u001b[39;00m(msg) \u001b[38;5;28;01mfrom\u001b[39;00m \u001b[38;5;28;01mNone\u001b[39;00m\n\u001b[0;32m   1306\u001b[0m \u001b[38;5;28;01mexcept\u001b[39;00m \u001b[38;5;167;01mException\u001b[39;00m:\n\u001b[0;32m   1307\u001b[0m     \u001b[38;5;28mself\u001b[39m\u001b[38;5;241m.\u001b[39mlog\u001b[38;5;241m.\u001b[39mwarning(\u001b[38;5;124m\"\u001b[39m\u001b[38;5;124mInvalid Message:\u001b[39m\u001b[38;5;124m\"\u001b[39m, exc_info\u001b[38;5;241m=\u001b[39m\u001b[38;5;28;01mTrue\u001b[39;00m)\n",
      "\u001b[1;31mKeyboardInterrupt\u001b[0m: Interrupted by user"
     ]
    }
   ],
   "source": [
    "##숫자맞추기게임 (술게임으로 변환-5번횟수제한)\n",
    "#랜덤 숫자를 생성하기 위한 모듈\n",
    "import random\n",
    "\n",
    "print(\"재미있는 술게임~\")\n",
    "print(\"숫자맞추기 게임에 온 것을 환영합니다\")\n",
    "\n",
    "#게임 전체를 반복\n",
    "while True:\n",
    "    #컴퓨터가 랜덤숫자를 선택\n",
    "    com_number = random.randint(1,50)\n",
    "    user_try = 0\n",
    "\n",
    "    print(\"1부터 50사이의 숫자를 맞춰보세요\")\n",
    "\n",
    "#5번 횟수제한\n",
    "    while user_try <= 7:\n",
    "        try:\n",
    "            #사용자가 숫자입력\n",
    "            user_guess = int(input(\"숫자를 입력하세요: \"))\n",
    "\n",
    "            #정답을 맞추면 게임 종료\n",
    "            if user_guess == com_number:\n",
    "                print(f\"🎉{com_number}🎉\")\n",
    "                print(\"🎉맞추셨습니다!🎉\")\n",
    "                break\n",
    "            elif user_guess > com_number:\n",
    "                print(\"DOWN!\")\n",
    "            else:\n",
    "                print(\"UP!\")\n",
    "\n",
    "            user_try += 1\n",
    "            print(f\"현재 시도횟수 {user_try}번\")\n",
    "        except ValueError:\n",
    "            print(\"땡\")\n",
    "\n",
    "    if user_try > 7:\n",
    "        print(\"7번 틀리셨네요 나머지 마시기!\")\n",
    "    else:\n",
    "        print(\"게임 종료! 문제 낸 사람이 마셔!\")\n",
    "        break\n",
    "\n",
    "    \n",
    "        "
   ]
  },
  {
   "cell_type": "code",
   "execution_count": null,
   "metadata": {},
   "outputs": [],
   "source": [
    "import random\n",
    "\n",
    "while True:\n",
    "    com_number = random.randint(1,50)\n",
    "    user_try = 0\n",
    "\n",
    "    print(\"안녕하세요 게임에 오신걸 환영합니다\")\n",
    "    print(\"1부터 50까지의 숫자중 맞혀주세요\")\n",
    "\n",
    "    while user_guess <= 7:\n",
    "        try:\n",
    "            user_guess = int(input(\"숫자를 입력하세요\"))\n",
    "\n",
    "            if user_guess == com_number:\n",
    "                print(\"맞혔습니다!\")\n",
    "                break\n",
    "\n",
    "            elif user_guess > com_number\n",
    "                print(\"DOWN!\")\n",
    "\n",
    "            else user_guess <= com_number\n",
    "                print(\"UP!\")\n",
    "        except ValueError:\n",
    "            print(\"다시입력하세요\")\n",
    "\n",
    "    \n",
    "\n",
    "\n",
    "\n",
    "\n",
    "\n",
    "\n"
   ]
  },
  {
   "cell_type": "code",
   "execution_count": 5,
   "metadata": {},
   "outputs": [
    {
     "name": "stdout",
     "output_type": "stream",
     "text": [
      "게임에 오신걸 환영합니다\n",
      "1부터 50까지의 숫자 중 하나를 골라보세요\n",
      "DOWN!\n",
      "현재 틀린 횟수 1\n",
      "UP!\n",
      "현재 틀린 횟수 2\n",
      "정답입니다\n",
      "게임을 종료합니다\n"
     ]
    }
   ],
   "source": [
    "import random\n",
    "\n",
    "print(\"게임에 오신걸 환영합니다\")\n",
    "\n",
    "while True:\n",
    "    com_number = random.randint(1,50)\n",
    "    user_try = 0\n",
    "\n",
    "    print(\"1부터 50까지의 숫자 중 하나를 골라보세요\")\n",
    "\n",
    "\n",
    "    while user_try <= 7:\n",
    "        try:\n",
    "            user_guess = int(input(\"숫자를 입력하세요\"))\n",
    "\n",
    "            if user_guess == com_number:\n",
    "                print(\"정답입니다\")\n",
    "                break\n",
    "            elif user_guess > com_number:\n",
    "                print(\"DOWN!\")\n",
    "            else:\n",
    "                print(\"UP!\")\n",
    "\n",
    "            user_try += 1\n",
    "            print(f\"현재 틀린 횟수 {user_try}\")\n",
    "        except ValueError:\n",
    "            print(\"숫자를 다시 입력하세요\")\n",
    "\n",
    "    if user_try > 7:\n",
    "        print(\"게임을 다시 시작합니다\")\n",
    "\n",
    "    else:\n",
    "        print(\"게임을 종료합니다\")\n",
    "        break\n",
    "\n",
    "    print(\"aaa\")\n",
    "    \n",
    "\n",
    "\n",
    "        "
   ]
  },
  {
   "cell_type": "code",
   "execution_count": 5,
   "metadata": {},
   "outputs": [
    {
     "name": "stdout",
     "output_type": "stream",
     "text": [
      "덧셈결과 : 5.2+6.4 = 11.600000000000001\n",
      "뺄셈결과 : 5.2-6.4 = -1.2000000000000002\n",
      "곱셈결과 : 5.2*6.4 = 33.28\n",
      "나눗셈결과 : 5.2/6.4 = 0.8125\n"
     ]
    }
   ],
   "source": [
    "num1 = float(input(\"첫번쨰 숫자를 입력하세요\"))\n",
    "num2 = float(input(\"두번째 숫자를 입력하세요\"))\n",
    "\n",
    "addition = num1 + num2\n",
    "subtraction = num1 - num2\n",
    "multiplication = num1*num2\n",
    "print(f\"덧셈결과 : {num1}+{num2} = {addition}\")\n",
    "print(f\"뺄셈결과 : {num1}-{num2} = {subtraction}\")\n",
    "print(f\"곱셈결과 : {num1}*{num2} = {multiplication}\")\n",
    "if num2 != 0:\n",
    "    divition = num1/num2\n",
    "    print(f\"나눗셈결과 : {num1}/{num2} = {divition}\")\n",
    "else:\n",
    "    print(\"0으로 나눌 수 없습니다\")"
   ]
  },
  {
   "cell_type": "code",
   "execution_count": 7,
   "metadata": {},
   "outputs": [
    {
     "name": "stdout",
     "output_type": "stream",
     "text": [
      "5은 홀수입니다\n"
     ]
    }
   ],
   "source": [
    "number = int(input(\"숫자\"))\n",
    "\n",
    "if number % 2 == 0:\n",
    "    print(f\"{number}은 짝수입니다\")\n",
    "else:\n",
    "    print(f\"{number}은 홀수입니다\")"
   ]
  },
  {
   "cell_type": "code",
   "execution_count": 9,
   "metadata": {},
   "outputs": [
    {
     "name": "stdout",
     "output_type": "stream",
     "text": [
      "홀수: 1\n",
      "짝수: 2\n",
      "홀수: 3\n",
      "짝수: 4\n",
      "홀수: 5\n",
      "짝수: 6\n",
      "홀수: 7\n",
      "짝수: 8\n",
      "홀수: 9\n",
      "짝수: 10\n",
      "홀수: 11\n",
      "짝수: 12\n",
      "홀수: 13\n",
      "짝수: 14\n",
      "홀수: 15\n",
      "짝수: 16\n",
      "홀수: 17\n",
      "짝수: 18\n",
      "홀수: 19\n",
      "짝수: 20\n",
      "홀수: 21\n",
      "짝수: 22\n",
      "홀수: 23\n",
      "짝수: 24\n",
      "홀수: 25\n",
      "짝수: 26\n",
      "홀수: 27\n",
      "짝수: 28\n",
      "홀수: 29\n",
      "짝수: 30\n",
      "홀수: 31\n",
      "짝수: 32\n",
      "홀수: 33\n",
      "짝수: 34\n",
      "홀수: 35\n",
      "짝수: 36\n",
      "홀수: 37\n",
      "짝수: 38\n",
      "홀수: 39\n",
      "짝수: 40\n",
      "홀수: 41\n",
      "짝수: 42\n",
      "홀수: 43\n",
      "짝수: 44\n",
      "홀수: 45\n",
      "짝수: 46\n",
      "홀수: 47\n",
      "짝수: 48\n",
      "홀수: 49\n",
      "짝수: 50\n",
      "홀수: 51\n",
      "짝수: 52\n",
      "홀수: 53\n",
      "짝수: 54\n",
      "홀수: 55\n",
      "짝수: 56\n",
      "홀수: 57\n",
      "짝수: 58\n",
      "홀수: 59\n",
      "짝수: 60\n",
      "홀수: 61\n",
      "짝수: 62\n",
      "홀수: 63\n",
      "짝수: 64\n",
      "홀수: 65\n",
      "짝수: 66\n",
      "홀수: 67\n",
      "짝수: 68\n",
      "홀수: 69\n",
      "짝수: 70\n",
      "홀수: 71\n",
      "짝수: 72\n",
      "홀수: 73\n",
      "짝수: 74\n",
      "홀수: 75\n",
      "짝수: 76\n",
      "홀수: 77\n",
      "짝수: 78\n",
      "홀수: 79\n",
      "짝수: 80\n",
      "홀수: 81\n",
      "짝수: 82\n",
      "홀수: 83\n",
      "짝수: 84\n",
      "홀수: 85\n",
      "짝수: 86\n",
      "홀수: 87\n",
      "짝수: 88\n",
      "홀수: 89\n",
      "짝수: 90\n",
      "홀수: 91\n",
      "짝수: 92\n",
      "홀수: 93\n",
      "짝수: 94\n",
      "홀수: 95\n",
      "짝수: 96\n",
      "홀수: 97\n",
      "짝수: 98\n",
      "홀수: 99\n",
      "짝수: 100\n"
     ]
    }
   ],
   "source": [
    "for i in range(1,101):\n",
    "    if i % 2 == 0:\n",
    "        print(f\"짝수: {i}\")\n",
    "    else:\n",
    "        print(f\"홀수: {i}\")"
   ]
  },
  {
   "cell_type": "code",
   "execution_count": 10,
   "metadata": {},
   "outputs": [
    {
     "name": "stdout",
     "output_type": "stream",
     "text": [
      "짝수 : [2, 4, 6, 8, 10, 12, 14, 16, 18, 20, 22, 24, 26, 28, 30, 32, 34, 36, 38, 40, 42, 44, 46, 48, 50, 52, 54, 56, 58, 60, 62, 64, 66, 68, 70, 72, 74, 76, 78, 80, 82, 84, 86, 88, 90, 92, 94, 96, 98, 100] \n",
      " 홀수 : [1, 3, 5, 7, 9, 11, 13, 15, 17, 19, 21, 23, 25, 27, 29, 31, 33, 35, 37, 39, 41, 43, 45, 47, 49, 51, 53, 55, 57, 59, 61, 63, 65, 67, 69, 71, 73, 75, 77, 79, 81, 83, 85, 87, 89, 91, 93, 95, 97, 99]\n"
     ]
    }
   ],
   "source": [
    "even_numbers = []\n",
    "odd_numbers = []\n",
    "\n",
    "for i in range(1,101):\n",
    "    if i % 2 == 0:\n",
    "        even_numbers.append(i)\n",
    "    else:\n",
    "        odd_numbers.append(i)\n",
    "\n",
    "print(f\"짝수 : {even_numbers} \\n 홀수 : {odd_numbers}\")"
   ]
  },
  {
   "cell_type": "code",
   "execution_count": 11,
   "metadata": {},
   "outputs": [
    {
     "name": "stdout",
     "output_type": "stream",
     "text": [
      "짝수 : [2, 4, 6, 8, 10, 12, 14, 16, 18, 20, 22, 24, 26, 28, 30, 32, 34, 36, 38, 40, 42, 44, 46, 48, 50, 52, 54, 56, 58, 60, 62, 64, 66, 68, 70, 72, 74, 76, 78, 80, 82, 84, 86, 88, 90, 92, 94, 96, 98, 100]\n",
      "홀수 : [1, 3, 5, 7, 9, 11, 13, 15, 17, 19, 21, 23, 25, 27, 29, 31, 33, 35, 37, 39, 41, 43, 45, 47, 49, 51, 53, 55, 57, 59, 61, 63, 65, 67, 69, 71, 73, 75, 77, 79, 81, 83, 85, 87, 89, 91, 93, 95, 97, 99]\n"
     ]
    }
   ],
   "source": [
    "even_numbers = []\n",
    "odd_numbers = []\n",
    "\n",
    "for i in range(1,101):\n",
    "    if i % 2 == 0:\n",
    "        even_numbers.append(i)\n",
    "    else:\n",
    "        odd_numbers.append(i)\n",
    "\n",
    "print(f\"짝수 : {even_numbers}\")\n",
    "print(f\"홀수 : {odd_numbers}\")"
   ]
  },
  {
   "cell_type": "code",
   "execution_count": 12,
   "metadata": {},
   "outputs": [
    {
     "name": "stdout",
     "output_type": "stream",
     "text": [
      "덧셈결과 : 5.2+6.4 = 11.6\n",
      "뺄셈결과 : 5.2-6.4 = -1.2\n",
      "곱셈결과 : 5.2*6.4 = 33.3\n",
      "나눗셈결과 : 5.2/6.4 = 0.8\n"
     ]
    }
   ],
   "source": [
    "num1 = float(input(\"첫번쨰 숫자를 입력하세요\"))\n",
    "num2 = float(input(\"두번째 숫자를 입력하세요\"))\n",
    "\n",
    "addition = round(num1 + num2,1)\n",
    "subtraction = round(num1 - num2,1)\n",
    "multiplication = round(num1*num2,1)\n",
    "print(f\"덧셈결과 : {num1}+{num2} = {addition}\")\n",
    "print(f\"뺄셈결과 : {num1}-{num2} = {subtraction}\")\n",
    "print(f\"곱셈결과 : {num1}*{num2} = {multiplication}\")\n",
    "if num2 != 0:\n",
    "    divition = round(num1/num2,1)\n",
    "    print(f\"나눗셈결과 : {num1}/{num2} = {divition}\")\n",
    "else:\n",
    "    print(\"0으로 나눌 수 없습니다\")"
   ]
  },
  {
   "cell_type": "code",
   "execution_count": 20,
   "metadata": {},
   "outputs": [
    {
     "name": "stdout",
     "output_type": "stream",
     "text": [
      "6! = 720\n"
     ]
    }
   ],
   "source": [
    "def factorial(n):\n",
    "    result = 1\n",
    "    for i in range(1,n+1):\n",
    "        result *= i\n",
    "    return result\n",
    "\n",
    "numbers = int(input(\"tntwk\"))\n",
    "print(f\"{numbers}! = {factorial(numbers)}\")"
   ]
  },
  {
   "cell_type": "code",
   "execution_count": 21,
   "metadata": {},
   "outputs": [
    {
     "name": "stdout",
     "output_type": "stream",
     "text": [
      "로그인 성공\n"
     ]
    }
   ],
   "source": [
    "username = \"admin\"\n",
    "password = \"votmdnjem\"\n",
    "\n",
    "input_username = input(\"사용자 이름을 입력하세요\")\n",
    "input_password = input(\"비밀번호를 입력하세요\")\n",
    "\n",
    "if input_username == username and input_password == password:\n",
    "    print(\"로그인 성공\")\n",
    "else:\n",
    "    print(\"로그인실패\\n사용자 이름 또는 비밀번호가 잘못되었습니다\")"
   ]
  },
  {
   "cell_type": "code",
   "execution_count": 33,
   "metadata": {},
   "outputs": [
    {
     "name": "stdout",
     "output_type": "stream",
     "text": [
      "구구단을 외자\n",
      "1*1=1\n",
      "1*2=2\n",
      "1*3=3\n",
      "1*4=4\n",
      "1*5=5\n",
      "1*6=6\n",
      "1*7=7\n",
      "1*8=8\n",
      "1*9=9\n",
      "----------\n",
      "2*1=2\n",
      "2*2=4\n",
      "2*3=6\n",
      "2*4=8\n",
      "2*5=10\n",
      "2*6=12\n",
      "2*7=14\n",
      "2*8=16\n",
      "2*9=18\n",
      "----------\n",
      "3*1=3\n",
      "3*2=6\n",
      "3*3=9\n",
      "3*4=12\n",
      "3*5=15\n",
      "3*6=18\n",
      "3*7=21\n",
      "3*8=24\n",
      "3*9=27\n",
      "----------\n",
      "4*1=4\n",
      "4*2=8\n",
      "4*3=12\n",
      "4*4=16\n",
      "4*5=20\n",
      "4*6=24\n",
      "4*7=28\n",
      "4*8=32\n",
      "4*9=36\n",
      "----------\n",
      "5*1=5\n",
      "5*2=10\n",
      "5*3=15\n",
      "5*4=20\n",
      "5*5=25\n",
      "5*6=30\n",
      "5*7=35\n",
      "5*8=40\n",
      "5*9=45\n",
      "----------\n",
      "6*1=6\n",
      "6*2=12\n",
      "6*3=18\n",
      "6*4=24\n",
      "6*5=30\n",
      "6*6=36\n",
      "6*7=42\n",
      "6*8=48\n",
      "6*9=54\n",
      "----------\n",
      "7*1=7\n",
      "7*2=14\n",
      "7*3=21\n",
      "7*4=28\n",
      "7*5=35\n",
      "7*6=42\n",
      "7*7=49\n",
      "7*8=56\n",
      "7*9=63\n",
      "----------\n",
      "8*1=8\n",
      "8*2=16\n",
      "8*3=24\n",
      "8*4=32\n",
      "8*5=40\n",
      "8*6=48\n",
      "8*7=56\n",
      "8*8=64\n",
      "8*9=72\n",
      "----------\n",
      "9*1=9\n",
      "9*2=18\n",
      "9*3=27\n",
      "9*4=36\n",
      "9*5=45\n",
      "9*6=54\n",
      "9*7=63\n",
      "9*8=72\n",
      "9*9=81\n",
      "----------\n"
     ]
    }
   ],
   "source": [
    "print(\"구구단을 외자\")\n",
    "for i in range(1,10):\n",
    "    for j in range(1,10):\n",
    "        print(f\"{i}*{j}={i*j}\")\n",
    "    print(\"-\"*10)"
   ]
  },
  {
   "cell_type": "code",
   "execution_count": null,
   "metadata": {},
   "outputs": [
    {
     "name": "stdout",
     "output_type": "stream",
     "text": [
      "1부터60까지 더한 값은 1830입니다\n"
     ]
    }
   ],
   "source": [
    "num = int(input(\"숫자\"))\n",
    "\n",
    "total = 0\n",
    "\n",
    "for i in range(1,num+1):\n",
    "    total += i\n",
    "\n",
    "print(f\"1부터{i}까지 더한 값은 {total}입니다\")"
   ]
  },
  {
   "cell_type": "code",
   "execution_count": 28,
   "metadata": {},
   "outputs": [
    {
     "name": "stdout",
     "output_type": "stream",
     "text": [
      "down\n",
      "up\n",
      "up\n",
      "oo\n"
     ]
    }
   ],
   "source": [
    "import random\n",
    "\n",
    "com_number = random.randint(1,50)\n",
    "\n",
    "while True:\n",
    "    num = int(input(\"숫자\"))\n",
    "\n",
    "    if com_number == num:\n",
    "        print(\"oo\")\n",
    "        break\n",
    "    elif com_number > num:\n",
    "        print(\"up\")\n",
    "    else:\n",
    "        print(\"down\")\n",
    "\n"
   ]
  },
  {
   "cell_type": "code",
   "execution_count": 36,
   "metadata": {},
   "outputs": [
    {
     "name": "stdout",
     "output_type": "stream",
     "text": [
      "입력한숫자 : [5.0, 4.0]\n",
      "평균 : 4.5\n"
     ]
    }
   ],
   "source": [
    "numbers = []\n",
    "\n",
    "n = int(input(\"몇개의 숫자를 입력하시겠어요?\"))\n",
    "\n",
    "for _ in range(n):\n",
    "    num = float(input(\"숫자를 입력하세요\"))\n",
    "    numbers.append(num)\n",
    "\n",
    "average = sum(numbers) / len(numbers)\n",
    "\n",
    "print(f\"입력한숫자 : {numbers}\")\n",
    "print(f\"평균 : {average}\")"
   ]
  },
  {
   "cell_type": "code",
   "execution_count": 38,
   "metadata": {},
   "outputs": [
    {
     "name": "stdout",
     "output_type": "stream",
     "text": [
      "저장된 전화번호부:\n",
      "{'0': '000-0000-1111', '1': '000-0000-2222', '3': '000-0000-3333', '4': '000-0000-4444', '5': '000-0000-5555'}\n"
     ]
    }
   ],
   "source": [
    "phbook = {}\n",
    "\n",
    "n= int(input(\"몇명의 전화번호를 저장하시겠어요?\"))\n",
    "\n",
    "for _ in range(n):\n",
    "    \n",
    "    name = input(\"이름을 입력하세요\")\n",
    "    ph = input(\"전화번호를 입력하세요\")\n",
    "    phbook[name] = ph\n",
    "\n",
    "print(\"저장된 전화번호부:\")\n",
    "print(phbook)"
   ]
  },
  {
   "cell_type": "code",
   "execution_count": 39,
   "metadata": {},
   "outputs": [
    {
     "name": "stdout",
     "output_type": "stream",
     "text": [
      "not found\n"
     ]
    }
   ],
   "source": [
    "search_name = input(\"조회할 이름을 입력하세요\")\n",
    "if search_name in phbook:\n",
    "    print(f\"{search_name}의 번호는 {phbook[search_name]}입니다\")\n",
    "else:\n",
    "    print(\"not found\")"
   ]
  },
  {
   "cell_type": "code",
   "execution_count": 6,
   "metadata": {},
   "outputs": [
    {
     "name": "stdout",
     "output_type": "stream",
     "text": [
      "소수점 2번째까지 계산\n",
      "+ : 6.2584+4.26845 = 10.53\n",
      "- : 6.2584-4.26845 = 1.99\n",
      "* : 6.2584*4.26845 = 26.71\n",
      "/ : 6.2584/4.26845 = 1.47\n"
     ]
    }
   ],
   "source": [
    "print(\"소수점 2번째까지 계산\")\n",
    "num1 = float(input(\"숫자\"))\n",
    "num2 = float(input(\"숫자\"))\n",
    "\n",
    "addition = round(num1 + num2,2)\n",
    "subtraction = round(num1 - num2,2)\n",
    "multiplication = round(num1 * num2,2)\n",
    "\n",
    "print(f\"+ : {num1}+{num2} = {addition}\")\n",
    "print(f\"- : {num1}-{num2} = {subtraction}\")\n",
    "print(f\"* : {num1}*{num2} = {multiplication}\")\n",
    "if num2 != 0:\n",
    "    divition = round(num1/num2,2)\n",
    "    print(f\"/ : {num1}/{num2} = {divition}\")\n",
    "\n",
    "else:\n",
    "    print(\"0은 불가\")\n",
    "\n"
   ]
  },
  {
   "cell_type": "code",
   "execution_count": 10,
   "metadata": {},
   "outputs": [
    {
     "name": "stdout",
     "output_type": "stream",
     "text": [
      "홀수 : 1\n",
      "짝수 : 2\n",
      "홀수 : 3\n",
      "짝수 : 4\n",
      "홀수 : 5\n",
      "짝수 : 6\n",
      "홀수 : 7\n",
      "짝수 : 8\n",
      "홀수 : 9\n",
      "짝수 : 10\n",
      "홀수 : 11\n",
      "짝수 : 12\n",
      "홀수 : 13\n",
      "짝수 : 14\n",
      "홀수 : 15\n",
      "짝수 : 16\n",
      "홀수 : 17\n",
      "짝수 : 18\n",
      "홀수 : 19\n",
      "짝수 : 20\n",
      "홀수 : 21\n",
      "짝수 : 22\n",
      "홀수 : 23\n",
      "짝수 : 24\n",
      "홀수 : 25\n",
      "짝수 : 26\n",
      "홀수 : 27\n",
      "짝수 : 28\n",
      "홀수 : 29\n",
      "짝수 : 30\n",
      "홀수 : 31\n",
      "짝수 : 32\n",
      "홀수 : 33\n",
      "짝수 : 34\n",
      "홀수 : 35\n",
      "짝수 : 36\n",
      "홀수 : 37\n",
      "짝수 : 38\n",
      "홀수 : 39\n",
      "짝수 : 40\n",
      "홀수 : 41\n",
      "짝수 : 42\n",
      "홀수 : 43\n",
      "짝수 : 44\n",
      "홀수 : 45\n",
      "짝수 : 46\n",
      "홀수 : 47\n",
      "짝수 : 48\n",
      "홀수 : 49\n",
      "짝수 : 50\n",
      "홀수 : 51\n",
      "짝수 : 52\n",
      "홀수 : 53\n",
      "짝수 : 54\n",
      "홀수 : 55\n",
      "짝수 : 56\n",
      "홀수 : 57\n",
      "짝수 : 58\n",
      "홀수 : 59\n",
      "짝수 : 60\n",
      "홀수 : 61\n",
      "짝수 : 62\n",
      "홀수 : 63\n",
      "짝수 : 64\n",
      "홀수 : 65\n",
      "짝수 : 66\n",
      "홀수 : 67\n",
      "짝수 : 68\n",
      "홀수 : 69\n",
      "짝수 : 70\n",
      "홀수 : 71\n",
      "짝수 : 72\n",
      "홀수 : 73\n",
      "짝수 : 74\n",
      "홀수 : 75\n",
      "짝수 : 76\n",
      "홀수 : 77\n",
      "짝수 : 78\n",
      "홀수 : 79\n",
      "짝수 : 80\n",
      "홀수 : 81\n",
      "짝수 : 82\n",
      "홀수 : 83\n",
      "짝수 : 84\n",
      "홀수 : 85\n",
      "짝수 : 86\n",
      "홀수 : 87\n",
      "짝수 : 88\n",
      "홀수 : 89\n",
      "짝수 : 90\n",
      "홀수 : 91\n",
      "짝수 : 92\n",
      "홀수 : 93\n",
      "짝수 : 94\n",
      "홀수 : 95\n",
      "짝수 : 96\n",
      "홀수 : 97\n",
      "짝수 : 98\n",
      "홀수 : 99\n",
      "짝수 : 100\n"
     ]
    }
   ],
   "source": [
    "for i in range(1,101):\n",
    "    if i%2 == 0:\n",
    "        print(f\"짝수 : {i}\")\n",
    "    else:\n",
    "        print(f\"홀수 : {i}\")"
   ]
  },
  {
   "cell_type": "code",
   "execution_count": 14,
   "metadata": {},
   "outputs": [
    {
     "name": "stdout",
     "output_type": "stream",
     "text": [
      "짝수: [2, 4, 6, 8, 10, 12, 14, 16, 18, 20, 22, 24, 26, 28, 30, 32, 34, 36, 38, 40, 42, 44, 46, 48, 50, 52, 54, 56, 58, 60, 62, 64, 66, 68, 70, 72, 74, 76, 78, 80, 82, 84, 86, 88, 90, 92, 94, 96, 98, 100]\n",
      "홀수: [1, 3, 5, 7, 9, 11, 13, 15, 17, 19, 21, 23, 25, 27, 29, 31, 33, 35, 37, 39, 41, 43, 45, 47, 49, 51, 53, 55, 57, 59, 61, 63, 65, 67, 69, 71, 73, 75, 77, 79, 81, 83, 85, 87, 89, 91, 93, 95, 97, 99]\n"
     ]
    }
   ],
   "source": [
    "ghftn = []\n",
    "Wkrtn = []\n",
    "\n",
    "for i in range(1,101):\n",
    "    if i%2 == 0:\n",
    "        Wkrtn.append(i)\n",
    "    else:\n",
    "        ghftn.append(i)\n",
    "\n",
    "print(f\"짝수:\",Wkrtn)\n",
    "print(f\"홀수:\",ghftn)\n",
    "        "
   ]
  },
  {
   "cell_type": "code",
   "execution_count": 16,
   "metadata": {},
   "outputs": [
    {
     "name": "stdout",
     "output_type": "stream",
     "text": [
      "10! = 3628800\n"
     ]
    }
   ],
   "source": [
    "def factorial(n):\n",
    "    result = 1\n",
    "    for i in range(1,n+1):\n",
    "        result *= i\n",
    "    return result\n",
    "\n",
    "number = int(input(\"숫자를 입력하세요\"))\n",
    "\n",
    "if number >= 0:\n",
    "    print(f\"{number}! = {factorial(number)}\")\n",
    "else:\n",
    "    print(\"음수의 팩토리얼은 계산할 수 없습니다\")"
   ]
  },
  {
   "cell_type": "code",
   "execution_count": null,
   "metadata": {},
   "outputs": [],
   "source": [
    "from decimal import Decimal\n",
    "\n",
    "while True:\n",
    "    # 사용자로부터 두 숫자를 입력받기\n",
    "    try:\n",
    "        num1 = Decimal(input(\"첫 번째 숫자를 입력하세요 (종료: exit): \"))\n",
    "        num2 = Decimal(input(\"두 번째 숫자를 입력하세요: \"))\n",
    "    except Decimal.InvalidOperation:\n",
    "        print(\"유효한 숫자를 입력해주세요.\")\n",
    "        continue\n",
    "\n",
    "    # 덧셈\n",
    "    addition = num1 + num2\n",
    "    print(f\"{num1} + {num2} = {addition}\")\n",
    "\n",
    "    # 뺄셈\n",
    "    subtraction = num1 - num2\n",
    "    print(f\"{num1} - {num2} = {subtraction}\")\n",
    "\n",
    "    # 곱셈\n",
    "    multiplication = num1 * num2\n",
    "    print(f\"{num1} * {num2} = {multiplication}\")\n",
    "\n",
    "    # 나눗셈: 0으로 나눌 수 없도록 예외 처리\n",
    "    if num2 != 0:\n",
    "        division = num1 / num2\n",
    "        print(f\"{num1} / {num2} = {division}\")\n",
    "    else:\n",
    "        print(\"0으로 나눌 수 없습니다!\")\n",
    "\n",
    "    # 반복 여부 확인\n",
    "    cont = input(\"계속하시겠습니까? (y/n): \")\n",
    "    if cont.lower() != 'y':\n",
    "        print(\"프로그램을 종료합니다.\")\n",
    "        break\n"
   ]
  },
  {
   "cell_type": "code",
   "execution_count": 17,
   "metadata": {},
   "outputs": [
    {
     "name": "stdout",
     "output_type": "stream",
     "text": [
      "컴퓨터: 가위 , 사용자: 바위 - 당신의 승리!\n"
     ]
    }
   ],
   "source": [
    "import random\n",
    "\n",
    "options = [\"가위\",\"바위\",\"보\"]\n",
    "\n",
    "com_choice = random.choice(options)\n",
    "user_choice = input(\"가위,바위,보 중에 하나를 선택하세요\")\n",
    "\n",
    "if user_choice == com_choice:\n",
    "    print(f\"컴퓨터: {com_choice} , 사용자: {user_choice} - 비겼습니다!\")\n",
    "elif (user_choice == \"가위\" and com_choice == \"보\") or\\\n",
    "     (user_choice == \"바위\" and com_choice == \"가위\") or\\\n",
    "     (user_choice == \"보\" and com_choice == \"바위\"):\n",
    "    print(f\"컴퓨터: {com_choice} , 사용자: {user_choice} - 당신의 승리!\")\n",
    "else:\n",
    "    print(f\"컴퓨터: {com_choice} , 사용자: {user_choice} - 당신의 패배!\")"
   ]
  },
  {
   "cell_type": "code",
   "execution_count": 21,
   "metadata": {},
   "outputs": [
    {
     "name": "stdout",
     "output_type": "stream",
     "text": [
      "입력한 문장: dkssudgktpdy wjsms whtnhusdlqslek rkaykkqslek\n",
      "단어개수: 4\n"
     ]
    }
   ],
   "source": [
    "sentence = input(\"문장을 입력하세요\")\n",
    "\n",
    "words = sentence.split()\n",
    "\n",
    "print(f\"입력한 문장: {sentence}\")\n",
    "print(f\"단어개수: {len(words)}\")"
   ]
  },
  {
   "cell_type": "code",
   "execution_count": 22,
   "metadata": {},
   "outputs": [
    {
     "name": "stdout",
     "output_type": "stream",
     "text": [
      "소수점 둘째자리까지 계산\n",
      "+: 9.46\n",
      "-: 0.94\n",
      "*: 22.14\n",
      "/: 1.22\n"
     ]
    }
   ],
   "source": [
    "print(\"소수점 둘째자리까지 계산\")\n",
    "\n",
    "num1 = float(input(\"숫자\"))\n",
    "num2 = float(input(\"슷자\"))\n",
    "\n",
    "addition = round(num1 + num2,2)\n",
    "subtraction = round(num1 - num2,2)\n",
    "multiplication = round(num1*num2,2)\n",
    "\n",
    "print(f\"+: {addition}\")\n",
    "print(f\"-: {subtraction}\")\n",
    "print(f\"*: {multiplication}\")\n",
    "\n",
    "if num2 != 0:\n",
    "    division = round(num1 / num2,2)\n",
    "    print(f\"/: {division}\")\n",
    "else:\n",
    "    print(\"0으로는 나눌 수 없습니다\")"
   ]
  },
  {
   "cell_type": "code",
   "execution_count": 25,
   "metadata": {},
   "outputs": [
    {
     "name": "stdout",
     "output_type": "stream",
     "text": [
      "+: 11.6\n",
      "-: -0.8\n",
      "*: 33.48\n",
      "/: 0.8709677419354838709677419355\n"
     ]
    }
   ],
   "source": [
    "from decimal import Decimal\n",
    "\n",
    "num1 = Decimal(input(\"숫자\"))\n",
    "num2 = Decimal(input(\"슷자\"))\n",
    "\n",
    "addition = num1 + num2\n",
    "subtraction = num1 - num2\n",
    "multiplication = num1*num2\n",
    "\n",
    "print(f\"+: {addition}\")\n",
    "print(f\"-: {subtraction}\")\n",
    "print(f\"*: {multiplication}\")\n",
    "\n",
    "if num2 != 0:\n",
    "    division = num1 / num2\n",
    "    print(f\"/: {division}\")\n",
    "else:\n",
    "    print(\"0으로는 나눌 수 없습니다\")"
   ]
  },
  {
   "cell_type": "code",
   "execution_count": 26,
   "metadata": {},
   "outputs": [
    {
     "name": "stdout",
     "output_type": "stream",
     "text": [
      "+: 10\n",
      "-: 2\n",
      "*: 24\n",
      "/: 1.5\n",
      "프로그램을 종료합니다\n"
     ]
    }
   ],
   "source": [
    "from decimal import Decimal\n",
    "\n",
    "while True:\n",
    "    try:\n",
    "        num1 = Decimal(input(\"숫자1\"))\n",
    "        num2 = Decimal(input(\"숫자2\"))\n",
    "    except Decimal.InvalidOperation:\n",
    "        print(\"유효한 숫자를 입력하세요\")\n",
    "        continue\n",
    "\n",
    "    addition = num1 + num2\n",
    "    subtraction = num1 - num2\n",
    "    multiplication = num1*num2\n",
    "\n",
    "    print(f\"+: {addition}\")\n",
    "    print(f\"-: {subtraction}\")\n",
    "    print(f\"*: {multiplication}\")\n",
    "\n",
    "    if num2 != 0:\n",
    "        division = num1 / num2\n",
    "        print(f\"/: {division}\")\n",
    "    else:\n",
    "        print(\"0으로는 나눌 수 없습니다\")\n",
    "\n",
    "    cont = input(\"계속 하시겠습니끼 (y/n) : \")\n",
    "    if cont.lower() != 'y':\n",
    "        print(\"프로그램을 종료합니다\")\n",
    "        break\n",
    "\n"
   ]
  },
  {
   "cell_type": "code",
   "execution_count": 28,
   "metadata": {},
   "outputs": [
    {
     "name": "stdout",
     "output_type": "stream",
     "text": [
      "6은(는) 짝수입니다\n"
     ]
    }
   ],
   "source": [
    "num = int(input(\"숫자\"))\n",
    "\n",
    "if num%2 == 0:\n",
    "    print(f\"{num}은(는) 짝수입니다\")\n",
    "else:\n",
    "    print(f\"{num}은(는) 홀수입니다\")"
   ]
  },
  {
   "cell_type": "code",
   "execution_count": 32,
   "metadata": {},
   "outputs": [
    {
     "name": "stdout",
     "output_type": "stream",
     "text": [
      "[2, 4, 8]은(는) 짝수입니다\n",
      "[5, 9, 7]은(는) 홀수입니다\n"
     ]
    }
   ],
   "source": [
    "ghftn = []\n",
    "Wkrtn = []\n",
    "\n",
    "num = int(input(\"몇개의 숫자를 입력하시겠어요?\"))\n",
    "\n",
    "for _ in range(num):\n",
    "    n = int(input(\"숫자를 입력하세요: \"))\n",
    "    if n%2 == 0:\n",
    "        Wkrtn.append(n)\n",
    "    else:\n",
    "        ghftn.append(n)\n",
    "\n",
    "\n",
    "print(f\"{Wkrtn}은(는) 짝수입니다\")\n",
    "print(f\"{ghftn}은(는) 홀수입니다\")\n",
    "\n"
   ]
  },
  {
   "cell_type": "code",
   "execution_count": 33,
   "metadata": {},
   "outputs": [
    {
     "name": "stdout",
     "output_type": "stream",
     "text": [
      "로그인 실패\n"
     ]
    }
   ],
   "source": [
    "id = \"admin\"\n",
    "password = \"votmdnjem\"\n",
    "\n",
    "#사용자 입력 받기\n",
    "input_id = input(\"id를 입력하세요\")\n",
    "input_password = input(\"password를 입력하세요\")\n",
    "\n",
    "if id == input_id and password == input_password:\n",
    "    print(\"로그인 성공\")\n",
    "else:\n",
    "    print(\"로그인 실패\")\n"
   ]
  },
  {
   "cell_type": "code",
   "execution_count": 36,
   "metadata": {},
   "outputs": [
    {
     "name": "stdout",
     "output_type": "stream",
     "text": [
      "홀수:1\n",
      "짝수:2\n",
      "홀수:3\n",
      "짝수:4\n",
      "홀수:5\n",
      "짝수:6\n",
      "홀수:7\n",
      "짝수:8\n",
      "홀수:9\n",
      "짝수:10\n",
      "홀수:11\n",
      "짝수:12\n",
      "홀수:13\n",
      "짝수:14\n",
      "홀수:15\n",
      "짝수:16\n",
      "홀수:17\n",
      "짝수:18\n",
      "홀수:19\n",
      "짝수:20\n",
      "홀수:21\n",
      "짝수:22\n",
      "홀수:23\n",
      "짝수:24\n",
      "홀수:25\n",
      "짝수:26\n",
      "홀수:27\n",
      "짝수:28\n",
      "홀수:29\n",
      "짝수:30\n",
      "홀수:31\n",
      "짝수:32\n",
      "홀수:33\n",
      "짝수:34\n",
      "홀수:35\n",
      "짝수:36\n",
      "홀수:37\n",
      "짝수:38\n",
      "홀수:39\n",
      "짝수:40\n",
      "홀수:41\n",
      "짝수:42\n",
      "홀수:43\n",
      "짝수:44\n",
      "홀수:45\n",
      "짝수:46\n",
      "홀수:47\n",
      "짝수:48\n",
      "홀수:49\n",
      "짝수:50\n",
      "홀수:51\n",
      "짝수:52\n",
      "홀수:53\n",
      "짝수:54\n",
      "홀수:55\n",
      "짝수:56\n",
      "홀수:57\n",
      "짝수:58\n",
      "홀수:59\n",
      "짝수:60\n",
      "홀수:61\n",
      "짝수:62\n",
      "홀수:63\n",
      "짝수:64\n",
      "홀수:65\n",
      "짝수:66\n",
      "홀수:67\n",
      "짝수:68\n",
      "홀수:69\n",
      "짝수:70\n",
      "홀수:71\n",
      "짝수:72\n",
      "홀수:73\n",
      "짝수:74\n",
      "홀수:75\n",
      "짝수:76\n",
      "홀수:77\n",
      "짝수:78\n",
      "홀수:79\n",
      "짝수:80\n",
      "홀수:81\n",
      "짝수:82\n",
      "홀수:83\n",
      "짝수:84\n",
      "홀수:85\n",
      "짝수:86\n",
      "홀수:87\n",
      "짝수:88\n",
      "홀수:89\n",
      "짝수:90\n",
      "홀수:91\n",
      "짝수:92\n",
      "홀수:93\n",
      "짝수:94\n",
      "홀수:95\n",
      "짝수:96\n",
      "홀수:97\n",
      "짝수:98\n",
      "홀수:99\n",
      "짝수:100\n"
     ]
    }
   ],
   "source": [
    "for i in range(1,101):\n",
    "\n",
    "    if i%2 == 0:\n",
    "        print(f\"짝수:{i}\")\n",
    "    else:\n",
    "        print(f\"홀수:{i}\")"
   ]
  },
  {
   "cell_type": "code",
   "execution_count": 3,
   "metadata": {},
   "outputs": [
    {
     "name": "stdout",
     "output_type": "stream",
     "text": [
      "1*1 = 1\n",
      "1*2 = 2\n",
      "1*3 = 3\n",
      "1*4 = 4\n",
      "1*5 = 5\n",
      "1*6 = 6\n",
      "1*7 = 7\n",
      "1*8 = 8\n",
      "1*9 = 9\n",
      "----------\n",
      "2*1 = 2\n",
      "2*2 = 4\n",
      "2*3 = 6\n",
      "2*4 = 8\n",
      "2*5 = 10\n",
      "2*6 = 12\n",
      "2*7 = 14\n",
      "2*8 = 16\n",
      "2*9 = 18\n",
      "----------\n",
      "3*1 = 3\n",
      "3*2 = 6\n",
      "3*3 = 9\n",
      "3*4 = 12\n",
      "3*5 = 15\n",
      "3*6 = 18\n",
      "3*7 = 21\n",
      "3*8 = 24\n",
      "3*9 = 27\n",
      "----------\n",
      "4*1 = 4\n",
      "4*2 = 8\n",
      "4*3 = 12\n",
      "4*4 = 16\n",
      "4*5 = 20\n",
      "4*6 = 24\n",
      "4*7 = 28\n",
      "4*8 = 32\n",
      "4*9 = 36\n",
      "----------\n",
      "5*1 = 5\n",
      "5*2 = 10\n",
      "5*3 = 15\n",
      "5*4 = 20\n",
      "5*5 = 25\n",
      "5*6 = 30\n",
      "5*7 = 35\n",
      "5*8 = 40\n",
      "5*9 = 45\n",
      "----------\n",
      "6*1 = 6\n",
      "6*2 = 12\n",
      "6*3 = 18\n",
      "6*4 = 24\n",
      "6*5 = 30\n",
      "6*6 = 36\n",
      "6*7 = 42\n",
      "6*8 = 48\n",
      "6*9 = 54\n",
      "----------\n",
      "7*1 = 7\n",
      "7*2 = 14\n",
      "7*3 = 21\n",
      "7*4 = 28\n",
      "7*5 = 35\n",
      "7*6 = 42\n",
      "7*7 = 49\n",
      "7*8 = 56\n",
      "7*9 = 63\n",
      "----------\n",
      "8*1 = 8\n",
      "8*2 = 16\n",
      "8*3 = 24\n",
      "8*4 = 32\n",
      "8*5 = 40\n",
      "8*6 = 48\n",
      "8*7 = 56\n",
      "8*8 = 64\n",
      "8*9 = 72\n",
      "----------\n",
      "9*1 = 9\n",
      "9*2 = 18\n",
      "9*3 = 27\n",
      "9*4 = 36\n",
      "9*5 = 45\n",
      "9*6 = 54\n",
      "9*7 = 63\n",
      "9*8 = 72\n",
      "9*9 = 81\n",
      "----------\n"
     ]
    }
   ],
   "source": [
    "for i in range(1,10):\n",
    "    for j in range(1,10):\n",
    "        print(f\"{i}*{j} = {i*j}\")\n",
    "    print(\"-\"*10)    "
   ]
  },
  {
   "cell_type": "code",
   "execution_count": 6,
   "metadata": {},
   "outputs": [
    {
     "name": "stdout",
     "output_type": "stream",
     "text": [
      "5! = 120\n"
     ]
    }
   ],
   "source": [
    "n = int(input(\"tntwk\"))\n",
    "def factorial(n):\n",
    "    result = 1\n",
    "    for i in range(1,1+n):\n",
    "        result *= i\n",
    "    return result\n",
    "print(f\"{n}! = {factorial(n)}\")\n",
    "    "
   ]
  },
  {
   "cell_type": "code",
   "execution_count": 7,
   "metadata": {},
   "outputs": [
    {
     "name": "stdout",
     "output_type": "stream",
     "text": [
      "1부터50까지의 합은 1275입니다.\n"
     ]
    }
   ],
   "source": [
    "n = int(input(\"1부터 몇까지 더할까요?\"))\n",
    "total = 0\n",
    "for i in range(1,1+n):\n",
    "    total += i\n",
    "\n",
    "print(f\"1부터{n}까지의 합은 {total}입니다.\")"
   ]
  },
  {
   "cell_type": "code",
   "execution_count": 15,
   "metadata": {},
   "outputs": [
    {
     "name": "stdout",
     "output_type": "stream",
     "text": [
      "UP!\n",
      "UP!\n",
      "UP!\n",
      "DOWN!\n",
      "DOWN!\n",
      "게임오버🎮\n",
      "31였습니다\n"
     ]
    }
   ],
   "source": [
    "import random\n",
    "com_number = random.randint(1,50)\n",
    "user_try = 0\n",
    "\n",
    "while user_try < 5:\n",
    "    user_guess = int(input(\"숫자를 입력하세요\"))\n",
    "    user_try += 1\n",
    "    if com_number == user_guess:\n",
    "        print(\"맞았습니다\")\n",
    "        print(\"게임을 종료합니다\")\n",
    "        break\n",
    "    elif com_number > user_guess:\n",
    "        print(\"UP!\")\n",
    "    else:\n",
    "        print(\"DOWN!\")\n",
    "\n",
    "if user_try == 5 and com_number!= user_guess:\n",
    "    print(\"게임오버🎮\")\n",
    "    print(f\"{com_number}였습니다\")\n",
    "\n"
   ]
  },
  {
   "cell_type": "code",
   "execution_count": 16,
   "metadata": {},
   "outputs": [
    {
     "name": "stdout",
     "output_type": "stream",
     "text": [
      "입력한 숫자: [2.0, 25.0, 14.0, 20.0, 35.0, 6.0]\n",
      "average: 17.0\n"
     ]
    }
   ],
   "source": [
    "numbers = []\n",
    "\n",
    "n = int(input(\"몇개의 숫자를 입력하시겠습니까?\"))\n",
    "\n",
    "for _ in range(n):\n",
    "    num = float(input(\"숫자를 입력하세요\"))\n",
    "    numbers.append(num)\n",
    "\n",
    "average = sum(numbers) / len(numbers)\n",
    "\n",
    "print(f\"입력한 숫자: {numbers}\")\n",
    "print(f\"average: {average}\")"
   ]
  },
  {
   "cell_type": "code",
   "execution_count": 21,
   "metadata": {},
   "outputs": [
    {
     "name": "stdout",
     "output_type": "stream",
     "text": [
      "저장된 전화번호부: \n",
      "{'1': '000-0000-1111', '2': '000-0000-2222', '3': '000-0000-3333', '4': '000-0000-4444', '5': '000-0000', '6': '000-0000'}\n"
     ]
    }
   ],
   "source": [
    "phbook = {}\n",
    "\n",
    "n = int(input(\"몇명의 전화번호를 입력하시겠습니까?\"))\n",
    "\n",
    "for _ in range(n):\n",
    "    name = input(\"이름을 입력하세요\")\n",
    "    ph = input(\"전화번호를 입력하세요\")\n",
    "    phbook[name] = ph\n",
    "\n",
    "print(\"저장된 전화번호부: \")\n",
    "print(phbook)"
   ]
  },
  {
   "cell_type": "code",
   "execution_count": 23,
   "metadata": {},
   "outputs": [
    {
     "name": "stdout",
     "output_type": "stream",
     "text": [
      "저장된 전화번호부:\n",
      "1:000-0000-0000\n"
     ]
    }
   ],
   "source": [
    "phbook = {}\n",
    "\n",
    "def format_ph_number(number):\n",
    "    return f\"{number[:3]}-{number[3:7]}-{number[7:]}\"\n",
    "\n",
    "n = int(input(\"몇명의 전화번호를 입력하시겠습니까?\"))\n",
    "\n",
    "for _ in range(n):\n",
    "    name = input(\"이름을 입력하세요\")\n",
    "    ph = input(\"전화번호를 입력하세요((-)없이 입력)\")\n",
    "    if len(ph) == 11:\n",
    "        ph = format_ph_number(ph)\n",
    "    else:\n",
    "        print(\"잘못된 형식입니다. 전화번호는 11자리 숫자여야 합니다\")\n",
    "        continue\n",
    "    phbook[name] = ph\n",
    "\n",
    "print(\"저장된 전화번호부:\")\n",
    "for name, number in phbook.items():\n",
    "    print(f\"{name}:{number}\")"
   ]
  },
  {
   "cell_type": "code",
   "execution_count": null,
   "metadata": {},
   "outputs": [],
   "source": [
    "sentence = input(\"문장을 입력하세요\")\n",
    "\n",
    "words = sentence.split()\n",
    "\n",
    "print(f\"입력한 문장: {sentence}\")\n",
    "print()"
   ]
  },
  {
   "cell_type": "code",
   "execution_count": null,
   "metadata": {},
   "outputs": [],
   "source": []
  }
 ],
 "metadata": {
  "kernelspec": {
   "display_name": "base",
   "language": "python",
   "name": "python3"
  },
  "language_info": {
   "codemirror_mode": {
    "name": "ipython",
    "version": 3
   },
   "file_extension": ".py",
   "mimetype": "text/x-python",
   "name": "python",
   "nbconvert_exporter": "python",
   "pygments_lexer": "ipython3",
   "version": "3.12.7"
  }
 },
 "nbformat": 4,
 "nbformat_minor": 2
}
