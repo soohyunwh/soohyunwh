{
 "cells": [
  {
   "cell_type": "markdown",
   "metadata": {},
   "source": [
    "2) React Native\n",
    "설명: 페이스북에서 만든 프레임워크로, JavaScript를 사용해 크로스 플랫폼 앱 개발 가능.\n",
    "사용 언어: JavaScript (React 라이브러리 기반)\n",
    "장점:\n",
    "웹 개발 경험이 있다면 익히기 쉬움.\n",
    "크로스 플랫폼 앱 개발.\n",
    "설치 방법:\n",
    "Node.js 설치 후 React Native CLI 사용.\n",
    "IDE 추천:\n",
    "Visual Studio Codec"
   ]
  },
  {
   "cell_type": "markdown",
   "metadata": {},
   "source": [
    "4. 연습 문제\n",
    "배운 내용을 연습하면서 실력을 다져봅시다!\n",
    "\n",
    "계산기 프로그램:\n",
    "두 숫자와 연산자(+, -, *, /)를 입력받아 결과를 출력.\n",
    "\n",
    "단어 카운터:\n",
    "사용자에게 문장을 입력받고, 단어 개수를 출력."
   ]
  },
  {
   "cell_type": "code",
   "execution_count": null,
   "metadata": {},
   "outputs": [],
   "source": [
    "#계산기 프로그램\n"
   ]
  }
 ],
 "metadata": {
  "language_info": {
   "name": "python"
  }
 },
 "nbformat": 4,
 "nbformat_minor": 2
}
