{
 "cells": [
  {
   "cell_type": "code",
   "execution_count": 7,
   "metadata": {},
   "outputs": [
    {
     "name": "stdout",
     "output_type": "stream",
     "text": [
      "Error: Cannot divide by zero.\n"
     ]
    }
   ],
   "source": [
    "try:\n",
    "    num = int(input(\"Enter a number: \"))\n",
    "    result = 10 / num\n",
    "except ValueError:\n",
    "    print(\"Error: Invalid input. Please enter a number.\")\n",
    "except ZeroDivisionError:\n",
    "    print(\"Error: Cannot divide by zero.\")\n",
    "except Exception as e:\n",
    "    print(f\"Unexpected error: {e}\")"
   ]
  },
  {
   "cell_type": "code",
   "execution_count": 9,
   "metadata": {},
   "outputs": [
    {
     "name": "stdout",
     "output_type": "stream",
     "text": [
      "Error: Cannot divide by zero.\n"
     ]
    }
   ],
   "source": [
    "try:\n",
    "    num = int(input(\"Enter a number: \"))\n",
    "    result = 10 / num\n",
    "except ValueError:\n",
    "    print(\"Error: Invalid input. Please enter a number.\")\n",
    "except ZeroDivisionError:\n",
    "    print(\"Error: Cannot divide by zero.\")\n",
    "except Exception as e:\n",
    "    print(f\"Unexpected error: {e}\")\n",
    "except ValueError:\n",
    "    print(\"Error: Invalid input. Please enter a number.\")\n",
    "except ZeroDivisionError:\n",
    "    print(\"Error: Cannot divide by zero.\")"
   ]
  },
  {
   "cell_type": "code",
   "execution_count": 15,
   "metadata": {},
   "outputs": [
    {
     "ename": "SyntaxError",
     "evalue": "parameter without a default follows parameter with a default (2488686617.py, line 1)",
     "output_type": "error",
     "traceback": [
      "\u001b[1;36m  Cell \u001b[1;32mIn[15], line 1\u001b[1;36m\u001b[0m\n\u001b[1;33m    def greet(name, name1, age, age1 = 10, year):\u001b[0m\n\u001b[1;37m                                           ^\u001b[0m\n\u001b[1;31mSyntaxError\u001b[0m\u001b[1;31m:\u001b[0m parameter without a default follows parameter with a default\n"
     ]
    }
   ],
   "source": [
    "def greet(name, name1, age, age1 = 10, year):\n",
    "    print(f\"hello {name}! you are {age} years old!\")\n",
    "\n",
    "greet(\"Alice\", \"test\", age=25 )"
   ]
  },
  {
   "cell_type": "code",
   "execution_count": 13,
   "metadata": {},
   "outputs": [
    {
     "ename": "KeyError",
     "evalue": "'name1'",
     "output_type": "error",
     "traceback": [
      "\u001b[1;31m---------------------------------------------------------------------------\u001b[0m",
      "\u001b[1;31mKeyError\u001b[0m                                  Traceback (most recent call last)",
      "Cell \u001b[1;32mIn[13], line 4\u001b[0m\n\u001b[0;32m      1\u001b[0m \u001b[38;5;28;01mdef\u001b[39;00m \u001b[38;5;21mgreet\u001b[39m(\u001b[38;5;241m*\u001b[39mvari, \u001b[38;5;241m*\u001b[39m\u001b[38;5;241m*\u001b[39myear1):\n\u001b[0;32m      2\u001b[0m     \u001b[38;5;28mprint\u001b[39m (\u001b[38;5;124mf\u001b[39m\u001b[38;5;124m\"\u001b[39m\u001b[38;5;124mhello, \u001b[39m\u001b[38;5;132;01m{\u001b[39;00mvari[\u001b[38;5;241m0\u001b[39m][\u001b[38;5;241m0\u001b[39m]\u001b[38;5;132;01m}\u001b[39;00m\u001b[38;5;132;01m{\u001b[39;00myear1[\u001b[38;5;124m'\u001b[39m\u001b[38;5;124mname1\u001b[39m\u001b[38;5;124m'\u001b[39m]\u001b[38;5;132;01m}\u001b[39;00m\u001b[38;5;124m you are \u001b[39m\u001b[38;5;132;01m{\u001b[39;00myear1[\u001b[38;5;124m'\u001b[39m\u001b[38;5;124mage\u001b[39m\u001b[38;5;124m'\u001b[39m]\u001b[38;5;132;01m}\u001b[39;00m\u001b[38;5;124m years old!\u001b[39m\u001b[38;5;124m\"\u001b[39m)\n\u001b[1;32m----> 4\u001b[0m greet([\u001b[38;5;124m'\u001b[39m\u001b[38;5;124mmary\u001b[39m\u001b[38;5;124m'\u001b[39m,\u001b[38;5;124m'\u001b[39m\u001b[38;5;124mtom\u001b[39m\u001b[38;5;124m'\u001b[39m], {\u001b[38;5;124m\"\u001b[39m\u001b[38;5;124mname1\u001b[39m\u001b[38;5;124m\"\u001b[39m:\u001b[38;5;124m\"\u001b[39m\u001b[38;5;124m홍길동\u001b[39m\u001b[38;5;124m\"\u001b[39m , \u001b[38;5;124m\"\u001b[39m\u001b[38;5;124mage\u001b[39m\u001b[38;5;124m\"\u001b[39m:\u001b[38;5;124m\"\u001b[39m\u001b[38;5;124m25\u001b[39m\u001b[38;5;124m\"\u001b[39m})\n",
      "Cell \u001b[1;32mIn[13], line 2\u001b[0m, in \u001b[0;36mgreet\u001b[1;34m(*vari, **year1)\u001b[0m\n\u001b[0;32m      1\u001b[0m \u001b[38;5;28;01mdef\u001b[39;00m \u001b[38;5;21mgreet\u001b[39m(\u001b[38;5;241m*\u001b[39mvari, \u001b[38;5;241m*\u001b[39m\u001b[38;5;241m*\u001b[39myear1):\n\u001b[1;32m----> 2\u001b[0m     \u001b[38;5;28mprint\u001b[39m (\u001b[38;5;124mf\u001b[39m\u001b[38;5;124m\"\u001b[39m\u001b[38;5;124mhello, \u001b[39m\u001b[38;5;132;01m{\u001b[39;00mvari[\u001b[38;5;241m0\u001b[39m][\u001b[38;5;241m0\u001b[39m]\u001b[38;5;132;01m}\u001b[39;00m\u001b[38;5;132;01m{\u001b[39;00myear1[\u001b[38;5;124m'\u001b[39m\u001b[38;5;124mname1\u001b[39m\u001b[38;5;124m'\u001b[39m]\u001b[38;5;132;01m}\u001b[39;00m\u001b[38;5;124m you are \u001b[39m\u001b[38;5;132;01m{\u001b[39;00myear1[\u001b[38;5;124m'\u001b[39m\u001b[38;5;124mage\u001b[39m\u001b[38;5;124m'\u001b[39m]\u001b[38;5;132;01m}\u001b[39;00m\u001b[38;5;124m years old!\u001b[39m\u001b[38;5;124m\"\u001b[39m)\n",
      "\u001b[1;31mKeyError\u001b[0m: 'name1'"
     ]
    }
   ],
   "source": [
    "def greet(*vari, **year1):\n",
    "    print (f\"hello, {vari[0]}{year1['name1']} you are {year1['age']} years old!\")\n",
    "\n",
    "greet(['mary','tom'], {\"name1\":\"홍길동\" , \"age\"=\"25\"})"
   ]
  },
  {
   "cell_type": "code",
   "execution_count": 17,
   "metadata": {},
   "outputs": [
    {
     "name": "stdout",
     "output_type": "stream",
     "text": [
      "Sum: 2\n"
     ]
    }
   ],
   "source": [
    "def sum_numbers(*args):\n",
    "    total = sum(args)\n",
    "    print(f\"Sum: {args[1]}\")\n",
    "\n",
    "sum_numbers(1,2,3,4)"
   ]
  },
  {
   "cell_type": "code",
   "execution_count": 19,
   "metadata": {},
   "outputs": [
    {
     "name": "stdout",
     "output_type": "stream",
     "text": [
      "name: Alice\n",
      "age: 25\n",
      "city: Newyork\n"
     ]
    }
   ],
   "source": [
    "def print_details(**kargs):\n",
    "    for key, value in kargs.items():\n",
    "        print(f\"{key}: {value}\")\n",
    "\n",
    "print_details(name = \"Alice\", age = 25, city = \"Newyork\")"
   ]
  },
  {
   "cell_type": "code",
   "execution_count": 20,
   "metadata": {},
   "outputs": [
    {
     "name": "stdout",
     "output_type": "stream",
     "text": [
      "15\n",
      "5\n",
      "50\n",
      "2.0\n",
      "Division by zero!\n"
     ]
    }
   ],
   "source": [
    "def calculator(a, b, operation=\"add\"):\n",
    "    if operation == \"add\":\n",
    "        return a + b\n",
    "    elif operation == \"subtract\":\n",
    "        return a - b\n",
    "    elif operation == \"multiply\":\n",
    "        return a * b\n",
    "    elif operation == \"divide\":\n",
    "        return a / b if b != 0 else \"Division by zero!\"\n",
    "    else:\n",
    "        return \"Invalid operation!\"\n",
    "\n",
    "print(calculator(10, 5))              # 기본값: 덧셈\n",
    "print(calculator(10, 5, \"subtract\"))  # 뺄셈\n",
    "print(calculator(10, 5, \"multiply\"))  # 곱셈\n",
    "print(calculator(10, 5, \"divide\"))    # 나눗셈\n",
    "print(calculator(10, 0, \"divide\"))    # Division by zero!"
   ]
  },
  {
   "cell_type": "code",
   "execution_count": 23,
   "metadata": {},
   "outputs": [
    {
     "name": "stdout",
     "output_type": "stream",
     "text": [
      "15\n",
      "5\n",
      "50\n",
      "2.0\n",
      "Division by zero!\n"
     ]
    }
   ],
   "source": [
    "def calculator(a, b, operation=\"+\"):\n",
    "    if operation == \"+\":\n",
    "        return a + b\n",
    "    elif operation == \"-\":\n",
    "        return a - b\n",
    "    elif operation == \"*\":\n",
    "        return a * b\n",
    "    elif operation == \"/\":\n",
    "        return a / b if b != 0 else \"Division by zero!\"\n",
    "    else:\n",
    "        return \"Invalid operation!\"\n",
    "\n",
    "print(calculator(10, 5))              # 기본값: 덧셈\n",
    "print(calculator(10, 5, \"-\"))  # 뺄셈\n",
    "print(calculator(10, 5, \"*\"))  # 곱셈\n",
    "print(calculator(10, 5, \"/\"))    # 나눗셈\n",
    "print(calculator(10, 0, \"/\"))    # Division by zero!"
   ]
  },
  {
   "cell_type": "code",
   "execution_count": 24,
   "metadata": {},
   "outputs": [
    {
     "name": "stdout",
     "output_type": "stream",
     "text": [
      "20.0\n",
      "No numbers provided!\n"
     ]
    }
   ],
   "source": [
    "def average(*numbers):\n",
    "    if not numbers:\n",
    "        return \"No numbers provided!\"\n",
    "    return sum(numbers) / len(numbers)\n",
    "\n",
    "print(average(10, 20, 30))  # 20.0\n",
    "print(average())            # No numbers provided!"
   ]
  },
  {
   "cell_type": "code",
   "execution_count": null,
   "metadata": {},
   "outputs": [],
   "source": []
  }
 ],
 "metadata": {
  "kernelspec": {
   "display_name": "base",
   "language": "python",
   "name": "python3"
  },
  "language_info": {
   "codemirror_mode": {
    "name": "ipython",
    "version": 3
   },
   "file_extension": ".py",
   "mimetype": "text/x-python",
   "name": "python",
   "nbconvert_exporter": "python",
   "pygments_lexer": "ipython3",
   "version": "3.12.7"
  }
 },
 "nbformat": 4,
 "nbformat_minor": 2
}
