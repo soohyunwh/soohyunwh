{
 "cells": [
  {
   "cell_type": "code",
   "execution_count": 1,
   "metadata": {},
   "outputs": [],
   "source": [
    "fruits = (\"apple\", \"banana\", \"cherry\")"
   ]
  },
  {
   "cell_type": "code",
   "execution_count": 2,
   "metadata": {},
   "outputs": [
    {
     "ename": "TypeError",
     "evalue": "'tuple' object doesn't support item deletion",
     "output_type": "error",
     "traceback": [
      "\u001b[1;31m---------------------------------------------------------------------------\u001b[0m",
      "\u001b[1;31mTypeError\u001b[0m                                 Traceback (most recent call last)",
      "Cell \u001b[1;32mIn[2], line 1\u001b[0m\n\u001b[1;32m----> 1\u001b[0m \u001b[38;5;28;01mdel\u001b[39;00m fruits[\u001b[38;5;241m0\u001b[39m]\n",
      "\u001b[1;31mTypeError\u001b[0m: 'tuple' object doesn't support item deletion"
     ]
    }
   ],
   "source": [
    "del fruits[0]"
   ]
  },
  {
   "cell_type": "code",
   "execution_count": 3,
   "metadata": {},
   "outputs": [],
   "source": [
    "del fruits"
   ]
  },
  {
   "cell_type": "code",
   "execution_count": 4,
   "metadata": {},
   "outputs": [
    {
     "name": "stdout",
     "output_type": "stream",
     "text": [
      "Even numbers: [2, 4, 6]\n"
     ]
    }
   ],
   "source": [
    "# 짝수만 필터링\n",
    "numbers = [1, 2, 3, 4, 5, 6]\n",
    "even_numbers = [num for num in numbers if num % 2 == 0]\n",
    "\n",
    "print(f\"Even numbers: {even_numbers}\")"
   ]
  },
  {
   "cell_type": "code",
   "execution_count": 5,
   "metadata": {},
   "outputs": [
    {
     "name": "stdout",
     "output_type": "stream",
     "text": [
      "Even numbers: [1, 3, 5]\n"
     ]
    }
   ],
   "source": [
    "# 홀수만 필터링\n",
    "numbers = [1, 2, 3, 4, 5, 6]\n",
    "even_numbers = [num for num in numbers if num % 2 == 1]\n",
    "\n",
    "print(f\"Even numbers: {even_numbers}\")"
   ]
  },
  {
   "cell_type": "code",
   "execution_count": 6,
   "metadata": {},
   "outputs": [
    {
     "name": "stdout",
     "output_type": "stream",
     "text": [
      "Even numbers: [20, 40, 60]\n"
     ]
    }
   ],
   "source": [
    "numbers = [1, 2, 3, 4, 5, 6]\n",
    "even_numbers = [num*10 for num in numbers if num % 2 == 0]\n",
    "\n",
    "print(f\"Even numbers: {even_numbers}\")"
   ]
  },
  {
   "cell_type": "code",
   "execution_count": 58,
   "metadata": {},
   "outputs": [
    {
     "name": "stdout",
     "output_type": "stream",
     "text": [
      "[1, 2, 3, 4, 5, 6]\n",
      "[1, 2, 3, 4, 5, 6]\n",
      "[1, 2, 3, 4, 5, 6]\n",
      "[1, 2, 3, 4, 5, 6]\n",
      "[1, 2, 3, 4, 5, 6]\n",
      "[1, 2, 3, 4, 5, 6]\n"
     ]
    }
   ],
   "source": [
    "numbers = [1, 2, 3, 4, 5, 6]\n",
    "for num in numbers:\n",
    "    print(numbers, end=\"\\n\")"
   ]
  },
  {
   "cell_type": "code",
   "execution_count": 11,
   "metadata": {},
   "outputs": [
    {
     "name": "stdout",
     "output_type": "stream",
     "text": [
      "2 x 1 = 2\n",
      "2 x 2 = 4\n",
      "2 x 3 = 6\n",
      "2 x 4 = 8\n",
      "2 x 5 = 10\n",
      "2 x 6 = 12\n",
      "2 x 7 = 14\n",
      "2 x 8 = 16\n",
      "2 x 9 = 18\n",
      "--------------------\n",
      "3 x 1 = 3\n",
      "3 x 2 = 6\n",
      "3 x 3 = 9\n",
      "3 x 4 = 12\n",
      "3 x 5 = 15\n",
      "3 x 6 = 18\n",
      "3 x 7 = 21\n",
      "3 x 8 = 24\n",
      "3 x 9 = 27\n",
      "--------------------\n",
      "4 x 1 = 4\n",
      "4 x 2 = 8\n",
      "4 x 3 = 12\n",
      "4 x 4 = 16\n",
      "4 x 5 = 20\n",
      "4 x 6 = 24\n",
      "4 x 7 = 28\n",
      "4 x 8 = 32\n",
      "4 x 9 = 36\n",
      "--------------------\n",
      "5 x 1 = 5\n",
      "5 x 2 = 10\n",
      "5 x 3 = 15\n",
      "5 x 4 = 20\n",
      "5 x 5 = 25\n",
      "5 x 6 = 30\n",
      "5 x 7 = 35\n",
      "5 x 8 = 40\n",
      "5 x 9 = 45\n",
      "--------------------\n",
      "6 x 1 = 6\n",
      "6 x 2 = 12\n",
      "6 x 3 = 18\n",
      "6 x 4 = 24\n",
      "6 x 5 = 30\n",
      "6 x 6 = 36\n",
      "6 x 7 = 42\n",
      "6 x 8 = 48\n",
      "6 x 9 = 54\n",
      "--------------------\n",
      "7 x 1 = 7\n",
      "7 x 2 = 14\n",
      "7 x 3 = 21\n",
      "7 x 4 = 28\n",
      "7 x 5 = 35\n",
      "7 x 6 = 42\n",
      "7 x 7 = 49\n",
      "7 x 8 = 56\n",
      "7 x 9 = 63\n",
      "--------------------\n",
      "8 x 1 = 8\n",
      "8 x 2 = 16\n",
      "8 x 3 = 24\n",
      "8 x 4 = 32\n",
      "8 x 5 = 40\n",
      "8 x 6 = 48\n",
      "8 x 7 = 56\n",
      "8 x 8 = 64\n",
      "8 x 9 = 72\n",
      "--------------------\n",
      "9 x 1 = 9\n",
      "9 x 2 = 18\n",
      "9 x 3 = 27\n",
      "9 x 4 = 36\n",
      "9 x 5 = 45\n",
      "9 x 6 = 54\n",
      "9 x 7 = 63\n",
      "9 x 8 = 72\n",
      "9 x 9 = 81\n",
      "--------------------\n"
     ]
    }
   ],
   "source": [
    "# 구구단 출력\n",
    "for i in range(2, 10):  # 2단부터 9단까지\n",
    "    for j in range(1, 10):  # 1부터 9까지 곱하기\n",
    "        print(f\"{i} x {j} = {i * j}\")\n",
    "    print(\"-\" * 20)  # 구분선"
   ]
  },
  {
   "cell_type": "code",
   "execution_count": 109,
   "metadata": {},
   "outputs": [
    {
     "name": "stdout",
     "output_type": "stream",
     "text": [
      "2**1 = 2\n",
      "2**2 = 4\n",
      "2**3 = 8\n",
      "2**4 = 16\n",
      "2**5 = 32\n",
      "2**6 = 64\n",
      "2**7 = 128\n",
      "2**8 = 256\n",
      "2**9 = 512\n",
      "2**10 = 1024\n",
      "--------------------\n",
      "3**1 = 3\n",
      "3**2 = 9\n",
      "3**3 = 27\n",
      "3**4 = 81\n",
      "3**5 = 243\n",
      "3**6 = 729\n",
      "3**7 = 2187\n",
      "3**8 = 6561\n",
      "3**9 = 19683\n",
      "3**10 = 59049\n",
      "--------------------\n",
      "4**1 = 4\n",
      "4**2 = 16\n",
      "4**3 = 64\n",
      "4**4 = 256\n",
      "4**5 = 1024\n",
      "4**6 = 4096\n",
      "4**7 = 16384\n",
      "4**8 = 65536\n",
      "4**9 = 262144\n",
      "4**10 = 1048576\n",
      "--------------------\n",
      "5**1 = 5\n",
      "5**2 = 25\n",
      "5**3 = 125\n",
      "5**4 = 625\n",
      "5**5 = 3125\n",
      "5**6 = 15625\n",
      "5**7 = 78125\n",
      "5**8 = 390625\n",
      "5**9 = 1953125\n",
      "5**10 = 9765625\n",
      "--------------------\n",
      "6**1 = 6\n",
      "6**2 = 36\n",
      "6**3 = 216\n",
      "6**4 = 1296\n",
      "6**5 = 7776\n",
      "6**6 = 46656\n",
      "6**7 = 279936\n",
      "6**8 = 1679616\n",
      "6**9 = 10077696\n",
      "6**10 = 60466176\n",
      "--------------------\n",
      "7**1 = 7\n",
      "7**2 = 49\n",
      "7**3 = 343\n",
      "7**4 = 2401\n",
      "7**5 = 16807\n",
      "7**6 = 117649\n",
      "7**7 = 823543\n",
      "7**8 = 5764801\n",
      "7**9 = 40353607\n",
      "7**10 = 282475249\n",
      "--------------------\n",
      "8**1 = 8\n",
      "8**2 = 64\n",
      "8**3 = 512\n",
      "8**4 = 4096\n",
      "8**5 = 32768\n",
      "8**6 = 262144\n",
      "8**7 = 2097152\n",
      "8**8 = 16777216\n",
      "8**9 = 134217728\n",
      "8**10 = 1073741824\n",
      "--------------------\n"
     ]
    }
   ],
   "source": [
    "for i in range(2,9):\n",
    "    for j in range(1,11):\n",
    "        print(f\"{i}**{j} = {i**j}\")\n",
    "    print(\"-\" *20)"
   ]
  },
  {
   "cell_type": "code",
   "execution_count": 38,
   "metadata": {},
   "outputs": [
    {
     "name": "stdout",
     "output_type": "stream",
     "text": [
      "100\n"
     ]
    }
   ],
   "source": [
    "import random\n",
    "random.seed(1234)\n",
    "target = random.randint(1,100)\n",
    "print(target)"
   ]
  },
  {
   "cell_type": "code",
   "execution_count": 48,
   "metadata": {},
   "outputs": [
    {
     "name": "stdout",
     "output_type": "stream",
     "text": [
      "13\n"
     ]
    }
   ],
   "source": [
    "target = random.randint(1,100)\n",
    "print(target)"
   ]
  },
  {
   "cell_type": "code",
   "execution_count": 50,
   "metadata": {},
   "outputs": [
    {
     "name": "stdout",
     "output_type": "stream",
     "text": [
      "Stripped: 'Hello World'\n"
     ]
    }
   ],
   "source": [
    "text_with_spaces = \"  Hello World  \"\n",
    "stripped = text_with_spaces.strip()\n",
    "print(f\"Stripped: '{stripped}'\")"
   ]
  },
  {
   "cell_type": "code",
   "execution_count": 55,
   "metadata": {},
   "outputs": [
    {
     "name": "stdout",
     "output_type": "stream",
     "text": [
      "Python----\n",
      "----Python\n",
      "-Python\n"
     ]
    }
   ],
   "source": [
    "text = \"Python\"\n",
    "print(text.ljust(10, '-'))  # Python----\n",
    "print(text.rjust(10, '-'))  # ----Python\n",
    "print(text.center(7, '-'))  # --Python--"
   ]
  },
  {
   "cell_type": "code",
   "execution_count": 65,
   "metadata": {},
   "outputs": [
    {
     "name": "stdout",
     "output_type": "stream",
     "text": [
      "['1/Python is fun.|']\n"
     ]
    }
   ],
   "source": [
    "lines = [\n",
    "    \"This is a test.\",\n",
    "    \"Python is fun.\",\n",
    "    \"I love programming.\"\n",
    "]\n",
    "\n",
    "keyword = \"Python\"\n",
    "filtered_lines = [str(idx)+'/'+val+'|' for(idx,val) in enumerate(lines) if keyword.lower() in val.lower()]\n",
    "print(filtered_lines)  # ['Python is fun.']"
   ]
  },
  {
   "cell_type": "code",
   "execution_count": 79,
   "metadata": {},
   "outputs": [],
   "source": [
    "text = \"\"\"\n",
    "Line 1\n",
    "        \n",
    "Line 2\n",
    "          \n",
    "Line 3\n",
    "\"\"\"\n"
   ]
  },
  {
   "cell_type": "code",
   "execution_count": 80,
   "metadata": {},
   "outputs": [
    {
     "data": {
      "text/plain": [
       "['', 'Line 1', '        ', 'Line 2', '          ', 'Line 3']"
      ]
     },
     "execution_count": 80,
     "metadata": {},
     "output_type": "execute_result"
    }
   ],
   "source": [
    "text.splitlines()"
   ]
  },
  {
   "cell_type": "code",
   "execution_count": 81,
   "metadata": {},
   "outputs": [
    {
     "name": "stdout",
     "output_type": "stream",
     "text": [
      "Line 1\n",
      "Line 2\n",
      "Line 3\n"
     ]
    }
   ],
   "source": [
    "cleaned_text = \"\\n\".join([line for line in text.splitlines() if line.strip()])\n",
    "print(cleaned_text)"
   ]
  },
  {
   "cell_type": "code",
   "execution_count": 83,
   "metadata": {},
   "outputs": [
    {
     "name": "stdout",
     "output_type": "stream",
     "text": [
      "Line 1\n",
      "        \n",
      "Line 2\n",
      "          \n",
      "Line 3\n"
     ]
    }
   ],
   "source": [
    "cleaned_text = \"\\n\".join([line for line in text.splitlines() if line!=\"\"])\n",
    "print(cleaned_text)"
   ]
  },
  {
   "cell_type": "code",
   "execution_count": 85,
   "metadata": {},
   "outputs": [
    {
     "name": "stdout",
     "output_type": "stream",
     "text": [
      "Defaulting to user installation because normal site-packages is not writeable\n",
      "Requirement already satisfied: unidecode in c:\\programdata\\anaconda3\\lib\\site-packages (1.3.8)\n"
     ]
    }
   ],
   "source": [
    "!pip install unidecode"
   ]
  },
  {
   "cell_type": "code",
   "execution_count": 86,
   "metadata": {},
   "outputs": [
    {
     "name": "stdout",
     "output_type": "stream",
     "text": [
      "hello\n"
     ]
    }
   ],
   "source": [
    "from unidecode import unidecode\n",
    "\n",
    "full_width_text = \"ｈｅｌｌｏ\"\n",
    "half_width_text = unidecode(full_width_text)\n",
    "print(half_width_text)  # hello"
   ]
  },
  {
   "cell_type": "code",
   "execution_count": 90,
   "metadata": {},
   "outputs": [
    {
     "name": "stdout",
     "output_type": "stream",
     "text": [
      "b'\\xed\\x85\\x8c\\xec\\x8a\\xa4\\xed\\x8a\\xb8'\n",
      "테스트\n"
     ]
    }
   ],
   "source": [
    "# 문자열 -> bytes\n",
    "text = \"테스트\"\n",
    "bytes_data = text.encode(\"utf-8\")\n",
    "print(bytes_data)\n",
    "\n",
    "# bytes -> 문자열\n",
    "decoded_text = bytes_data.decode(\"utf-8\")\n",
    "print(decoded_text)"
   ]
  },
  {
   "cell_type": "code",
   "execution_count": 91,
   "metadata": {},
   "outputs": [
    {
     "name": "stdout",
     "output_type": "stream",
     "text": [
      "테스트\n"
     ]
    }
   ],
   "source": [
    "text = \"b'\\xed\\x85\\x8c\\xec\\x8a\\xa4\\xed\\x8a\\xb8'\"\n",
    "decoded_text = bytes_data.decode(\"utf-8\")\n",
    "print(decoded_text)"
   ]
  },
  {
   "cell_type": "code",
   "execution_count": 94,
   "metadata": {},
   "outputs": [
    {
     "name": "stdout",
     "output_type": "stream",
     "text": [
      "b'\\xc5\\xd7\\xbd\\xba\\xc6\\xae'\n",
      "테스트\n"
     ]
    }
   ],
   "source": [
    "# 문자열 -> bytes\n",
    "text = \"테스트\"\n",
    "bytes_data = text.encode(\"cp949\")\n",
    "print(bytes_data)\n",
    "\n",
    "# bytes -> 문자열\n",
    "decoded_text = bytes_data.decode(\"cp949\")\n",
    "print(decoded_text)"
   ]
  },
  {
   "cell_type": "code",
   "execution_count": 106,
   "metadata": {},
   "outputs": [
    {
     "name": "stdout",
     "output_type": "stream",
     "text": [
      "ASCII value of '현': 54788\n",
      "Character for ASCII 65: A\n"
     ]
    }
   ],
   "source": [
    "char = \"현\"\n",
    "print(f\"ASCII value of '{char}': {ord(char)}\")\n",
    "print(f\"Character for ASCII 65: {chr(65)}\")"
   ]
  },
  {
   "cell_type": "code",
   "execution_count": 111,
   "metadata": {},
   "outputs": [
    {
     "name": "stdout",
     "output_type": "stream",
     "text": [
      "error\n"
     ]
    }
   ],
   "source": [
    "nums = [1,2,3]\n",
    "try:\n",
    "    n = nums[5]\n",
    "    print(n)\n",
    "except:\n",
    "    print(\"error\")"
   ]
  },
  {
   "cell_type": "code",
   "execution_count": 114,
   "metadata": {},
   "outputs": [
    {
     "name": "stdout",
     "output_type": "stream",
     "text": [
      "error\n"
     ]
    }
   ],
   "source": [
    "nums = [1,2,3]\n",
    "try:\n",
    "    n = nums[-4]\n",
    "    print(n)\n",
    "except:\n",
    "    print(\"error\")"
   ]
  },
  {
   "cell_type": "code",
   "execution_count": 121,
   "metadata": {},
   "outputs": [
    {
     "name": "stdout",
     "output_type": "stream",
     "text": [
      "End\n"
     ]
    }
   ],
   "source": [
    "nums = []\n",
    "for i in range(100):\n",
    "    try:\n",
    "        div = i - 50\n",
    "        # print (i,div)\n",
    "        nums += [div]\n",
    "    except:\n",
    "        print(f\"Error i : {i}\")\n",
    "print(\"End\")"
   ]
  },
  {
   "cell_type": "code",
   "execution_count": 127,
   "metadata": {},
   "outputs": [
    {
     "name": "stdout",
     "output_type": "stream",
     "text": [
      "Error!!!!!!\n",
      "Error!!!!!!\n",
      "Error!!!!!!\n",
      "Error!!!!!!\n",
      "Error!!!!!!\n",
      "Error!!!!!!\n",
      "Error!!!!!!\n",
      "Error!!!!!!\n",
      "Error!!!!!!\n",
      "Error!!!!!!\n",
      "Error!!!!!!\n",
      "Error!!!!!!\n",
      "Error!!!!!!\n",
      "Error!!!!!!\n",
      "Error!!!!!!\n",
      "Error!!!!!!\n",
      "Error!!!!!!\n",
      "Error!!!!!!\n",
      "Error!!!!!!\n",
      "Error!!!!!!\n",
      "Error!!!!!!\n",
      "Error!!!!!!\n",
      "Error!!!!!!\n",
      "Error!!!!!!\n",
      "Error!!!!!!\n",
      "Error!!!!!!\n",
      "Error!!!!!!\n",
      "Error!!!!!!\n",
      "Error!!!!!!\n",
      "Error!!!!!!\n",
      "Error!!!!!!\n",
      "Error!!!!!!\n",
      "Error!!!!!!\n",
      "Error!!!!!!\n",
      "Error!!!!!!\n",
      "Error!!!!!!\n",
      "Error!!!!!!\n",
      "Error!!!!!!\n",
      "Error!!!!!!\n",
      "Error!!!!!!\n",
      "Error!!!!!!\n",
      "Error!!!!!!\n",
      "Error!!!!!!\n",
      "Error!!!!!!\n",
      "Error!!!!!!\n",
      "Error!!!!!!\n",
      "Error!!!!!!\n",
      "Error!!!!!!\n",
      "Error!!!!!!\n",
      "Error!!!!!!\n",
      "Error i : 50 division by zero\n",
      "Error!!!!!!\n",
      "Error!!!!!!\n",
      "Error!!!!!!\n",
      "Error!!!!!!\n",
      "Error!!!!!!\n",
      "Error!!!!!!\n",
      "Error!!!!!!\n",
      "Error!!!!!!\n",
      "Error!!!!!!\n",
      "Error!!!!!!\n",
      "Error!!!!!!\n",
      "Error!!!!!!\n",
      "Error!!!!!!\n",
      "Error!!!!!!\n",
      "Error!!!!!!\n",
      "Error!!!!!!\n",
      "Error!!!!!!\n",
      "Error!!!!!!\n",
      "Error!!!!!!\n",
      "Error!!!!!!\n",
      "Error!!!!!!\n",
      "Error!!!!!!\n",
      "Error!!!!!!\n",
      "Error!!!!!!\n",
      "Error!!!!!!\n",
      "Error!!!!!!\n",
      "Error!!!!!!\n",
      "Error!!!!!!\n",
      "Error!!!!!!\n",
      "Error!!!!!!\n",
      "Error!!!!!!\n",
      "Error!!!!!!\n",
      "Error!!!!!!\n",
      "Error!!!!!!\n",
      "Error!!!!!!\n",
      "Error!!!!!!\n",
      "Error!!!!!!\n",
      "Error!!!!!!\n",
      "Error!!!!!!\n",
      "Error!!!!!!\n",
      "Error!!!!!!\n",
      "Error!!!!!!\n",
      "Error!!!!!!\n",
      "Error!!!!!!\n",
      "Error!!!!!!\n",
      "Error!!!!!!\n",
      "Error!!!!!!\n",
      "Error!!!!!!\n",
      "Error!!!!!!\n",
      "End\n"
     ]
    }
   ],
   "source": [
    "nums = []\n",
    "for i in range(100):\n",
    "    try:\n",
    "        div = i - 50\n",
    "        # print (i,div)\n",
    "        nums += 100/div\n",
    "    except ZeroDivisionError as ze:\n",
    "        print(f\"Error i : {i} {ze}\")\n",
    "    except Exception as ex:\n",
    "        print(\"Error!!!!!!\")\n",
    "print(\"End\")"
   ]
  },
  {
   "cell_type": "code",
   "execution_count": 130,
   "metadata": {},
   "outputs": [
    {
     "ename": "NameError",
     "evalue": "name 'content' is not defined",
     "output_type": "error",
     "traceback": [
      "\u001b[1;31m---------------------------------------------------------------------------\u001b[0m",
      "\u001b[1;31mNameError\u001b[0m                                 Traceback (most recent call last)",
      "Cell \u001b[1;32mIn[130], line 3\u001b[0m\n\u001b[0;32m      1\u001b[0m filename \u001b[38;5;241m=\u001b[39m \u001b[38;5;28minput\u001b[39m(\u001b[38;5;124m\"\u001b[39m\u001b[38;5;124m파일명을 입력하세요 : \u001b[39m\u001b[38;5;124m\"\u001b[39m)\n\u001b[0;32m      2\u001b[0m \u001b[38;5;28;01mwith\u001b[39;00m \u001b[38;5;28mopen\u001b[39m(filename, \u001b[38;5;124m\"\u001b[39m\u001b[38;5;124mw\u001b[39m\u001b[38;5;124m\"\u001b[39m, encoding\u001b[38;5;241m=\u001b[39m\u001b[38;5;124m\"\u001b[39m\u001b[38;5;124mutf-8\u001b[39m\u001b[38;5;124m\"\u001b[39m) \u001b[38;5;28;01mas\u001b[39;00m file:\n\u001b[1;32m----> 3\u001b[0m     file\u001b[38;5;241m.\u001b[39mwrite(content)\n\u001b[0;32m      5\u001b[0m \u001b[38;5;28mprint\u001b[39m(\u001b[38;5;124mf\u001b[39m\u001b[38;5;124m\"\u001b[39m\u001b[38;5;132;01m{\u001b[39;00mfile_name\u001b[38;5;132;01m}\u001b[39;00m\u001b[38;5;124m 파일생성 완료\u001b[39m\u001b[38;5;124m\"\u001b[39m)\n",
      "\u001b[1;31mNameError\u001b[0m: name 'content' is not defined"
     ]
    }
   ],
   "source": [
    "filename = input(\"파일명을 입력하세요 : \")\n",
    "with open(filename, \"w\", encoding=\"utf-8\") as file:\n",
    "    file.write(content)\n",
    "\n",
    "print(f\"{file_name} 파일생성 완료\")"
   ]
  },
  {
   "cell_type": "code",
   "execution_count": 1,
   "metadata": {},
   "outputs": [
    {
     "ename": "ValueError",
     "evalue": "invalid literal for int() with base 10: 's'",
     "output_type": "error",
     "traceback": [
      "\u001b[1;31m---------------------------------------------------------------------------\u001b[0m",
      "\u001b[1;31mValueError\u001b[0m                                Traceback (most recent call last)",
      "Cell \u001b[1;32mIn[1], line 1\u001b[0m\n\u001b[1;32m----> 1\u001b[0m num \u001b[38;5;241m=\u001b[39m \u001b[38;5;28mint\u001b[39m(\u001b[38;5;28minput\u001b[39m(\u001b[38;5;124m\"\u001b[39m\u001b[38;5;124m숫자를 입력하세요 : \u001b[39m\u001b[38;5;124m\"\u001b[39m))\n\u001b[0;32m      2\u001b[0m \u001b[38;5;28;01mfor\u001b[39;00m no \u001b[38;5;129;01min\u001b[39;00m \u001b[38;5;28mrange\u001b[39m(\u001b[38;5;241m1\u001b[39m,num\u001b[38;5;241m+\u001b[39m\u001b[38;5;241m1\u001b[39m):\n\u001b[0;32m      3\u001b[0m     \u001b[38;5;28;01mtry\u001b[39;00m:\n",
      "\u001b[1;31mValueError\u001b[0m: invalid literal for int() with base 10: 's'"
     ]
    }
   ],
   "source": [
    "num = int(input(\"숫자를 입력하세요 : \"))\n",
    "for no in range(1,num+1):\n",
    "    try:\n",
    "        file = open(\"exam_\"+str(no)+\".txt\", \"x\")\n",
    "        file.write(str(no)+\"테스트\")\n",
    "        file.close()\n",
    "        print(\"파일생성완료\")\n",
    "    except:\n",
    "        print(\"파일생성완료\")\n",
    "        file.close()"
   ]
  },
  {
   "cell_type": "code",
   "execution_count": 2,
   "metadata": {},
   "outputs": [
    {
     "name": "stdout",
     "output_type": "stream",
     "text": [
      "6\n"
     ]
    }
   ],
   "source": [
    "a = input()\n",
    "b = int(a)\n",
    "print(b*2)"
   ]
  },
  {
   "cell_type": "code",
   "execution_count": 3,
   "metadata": {},
   "outputs": [
    {
     "name": "stdout",
     "output_type": "stream",
     "text": [
      "6\n"
     ]
    }
   ],
   "source": [
    "a = int(input())\n",
    "print(a*2)"
   ]
  },
  {
   "cell_type": "code",
   "execution_count": 1,
   "metadata": {},
   "outputs": [
    {
     "ename": "SyntaxError",
     "evalue": "expected ':' (824672795.py, line 6)",
     "output_type": "error",
     "traceback": [
      "\u001b[1;36m  Cell \u001b[1;32mIn[1], line 6\u001b[1;36m\u001b[0m\n\u001b[1;33m    if 7 in list\u001b[0m\n\u001b[1;37m                ^\u001b[0m\n\u001b[1;31mSyntaxError\u001b[0m\u001b[1;31m:\u001b[0m expected ':'\n"
     ]
    }
   ],
   "source": [
    "import math\n",
    "import time\n",
    "\n",
    "list_test = [3,2,4,7,5,6]*100000000+[77]\n",
    "start = time.time()\n",
    "if 7 in list"
   ]
  },
  {
   "cell_type": "code",
   "execution_count": 2,
   "metadata": {},
   "outputs": [
    {
     "ename": "FileNotFoundError",
     "evalue": "[WinError 2] 지정된 파일을 찾을 수 없습니다: 'moved_example.txt'",
     "output_type": "error",
     "traceback": [
      "\u001b[1;31m---------------------------------------------------------------------------\u001b[0m",
      "\u001b[1;31mFileNotFoundError\u001b[0m                         Traceback (most recent call last)",
      "Cell \u001b[1;32mIn[2], line 2\u001b[0m\n\u001b[0;32m      1\u001b[0m \u001b[38;5;28;01mimport\u001b[39;00m \u001b[38;5;21;01mos\u001b[39;00m\n\u001b[1;32m----> 2\u001b[0m os\u001b[38;5;241m.\u001b[39mremove(\u001b[38;5;124m\"\u001b[39m\u001b[38;5;124mmoved_example.txt\u001b[39m\u001b[38;5;124m\"\u001b[39m)\n\u001b[0;32m      3\u001b[0m \u001b[38;5;28mprint\u001b[39m(\u001b[38;5;124m\"\u001b[39m\u001b[38;5;124mFile deleted successfully.\u001b[39m\u001b[38;5;124m\"\u001b[39m)\n",
      "\u001b[1;31mFileNotFoundError\u001b[0m: [WinError 2] 지정된 파일을 찾을 수 없습니다: 'moved_example.txt'"
     ]
    }
   ],
   "source": [
    "import os\n",
    "os.remove(\"moved_example.txt\")\n",
    "print(\"File deleted successfully.\")"
   ]
  },
  {
   "cell_type": "code",
   "execution_count": 1,
   "metadata": {},
   "outputs": [
    {
     "name": "stdout",
     "output_type": "stream",
     "text": [
      "33\n"
     ]
    }
   ],
   "source": [
    "a = input()\n",
    "print(a*2)"
   ]
  },
  {
   "cell_type": "code",
   "execution_count": 2,
   "metadata": {},
   "outputs": [
    {
     "name": "stdout",
     "output_type": "stream",
     "text": [
      "34\n"
     ]
    }
   ],
   "source": [
    "a = input()\n",
    "b = input()\n",
    "print(a+b)"
   ]
  },
  {
   "cell_type": "code",
   "execution_count": 3,
   "metadata": {},
   "outputs": [
    {
     "name": "stdout",
     "output_type": "stream",
     "text": [
      "6\n"
     ]
    }
   ],
   "source": [
    "a = int(input())\n",
    "print(a*2)"
   ]
  }
 ],
 "metadata": {
  "kernelspec": {
   "display_name": "base",
   "language": "python",
   "name": "python3"
  },
  "language_info": {
   "codemirror_mode": {
    "name": "ipython",
    "version": 3
   },
   "file_extension": ".py",
   "mimetype": "text/x-python",
   "name": "python",
   "nbconvert_exporter": "python",
   "pygments_lexer": "ipython3",
   "version": "3.12.7"
  }
 },
 "nbformat": 4,
 "nbformat_minor": 2
}
